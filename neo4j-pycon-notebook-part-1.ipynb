{
  "nbformat": 4,
  "nbformat_minor": 0,
  "metadata": {
    "colab": {
      "provenance": []
    },
    "kernelspec": {
      "name": "python3",
      "display_name": "Python 3"
    },
    "language_info": {
      "name": "python"
    }
  },
  "cells": [
    {
      "cell_type": "markdown",
      "source": [
        "# Python Workshop with Neo4j\n",
        "Click on the link below to open a Colab version of the notebook. You will be able to create your own version.\n"
      ],
      "metadata": {
        "id": "0WfHzEJQrwu2"
      }
    },
    {
      "cell_type": "markdown",
      "source": [
        "<a href=\"https://colab.research.google.com/github/bhattbhavesh91/pycon-india-neo4j-workshop/blob/main/neo4j-pycon-notebook-part-1.ipynb.ipynb\" target=\"_blank\"><img height=\"40\" alt=\"Run your own notebook in Colab\" src = \"https://colab.research.google.com/assets/colab-badge.svg\"></a>"
      ],
      "metadata": {
        "id": "A7Ofwaikr_js"
      }
    },
    {
      "cell_type": "markdown",
      "source": [
        "# Installation"
      ],
      "metadata": {
        "id": "uR7XkETXgquD"
      }
    },
    {
      "cell_type": "code",
      "execution_count": null,
      "metadata": {
        "id": "gTCHFXVwe-Od",
        "colab": {
          "base_uri": "https://localhost:8080/"
        },
        "outputId": "90055068-d323-434c-9b9c-33c90fa05107"
      },
      "outputs": [
        {
          "output_type": "stream",
          "name": "stdout",
          "text": [
            "\u001b[?25l     \u001b[90m━━━━━━━━━━━━━━━━━━━━━━━━━━━━━━━━━━━━━━━━\u001b[0m \u001b[32m0.0/190.9 kB\u001b[0m \u001b[31m?\u001b[0m eta \u001b[36m-:--:--\u001b[0m\r\u001b[2K     \u001b[91m━━━━━━━━━━━━━━━━━\u001b[0m\u001b[90m╺\u001b[0m\u001b[90m━━━━━━━━━━━━━━━━━━━━━━\u001b[0m \u001b[32m81.9/190.9 kB\u001b[0m \u001b[31m2.5 MB/s\u001b[0m eta \u001b[36m0:00:01\u001b[0m\r\u001b[2K     \u001b[90m━━━━━━━━━━━━━━━━━━━━━━━━━━━━━━━━━━━━━━━\u001b[0m \u001b[32m190.9/190.9 kB\u001b[0m \u001b[31m3.6 MB/s\u001b[0m eta \u001b[36m0:00:00\u001b[0m\n",
            "\u001b[?25h  Installing build dependencies ... \u001b[?25l\u001b[?25hdone\n",
            "  Getting requirements to build wheel ... \u001b[?25l\u001b[?25hdone\n",
            "  Installing backend dependencies ... \u001b[?25l\u001b[?25hdone\n",
            "  Preparing metadata (pyproject.toml) ... \u001b[?25l\u001b[?25hdone\n",
            "  Building wheel for neo4j (pyproject.toml) ... \u001b[?25l\u001b[?25hdone\n",
            "\u001b[2K     \u001b[90m━━━━━━━━━━━━━━━━━━━━━━━━━━━━━━━━━━━━━━━\u001b[0m \u001b[32m191.1/191.1 kB\u001b[0m \u001b[31m3.3 MB/s\u001b[0m eta \u001b[36m0:00:00\u001b[0m\n",
            "\u001b[?25h  Installing build dependencies ... \u001b[?25l\u001b[?25hdone\n",
            "  Getting requirements to build wheel ... \u001b[?25l\u001b[?25hdone\n",
            "  Installing backend dependencies ... \u001b[?25l\u001b[?25hdone\n",
            "  Preparing metadata (pyproject.toml) ... \u001b[?25l\u001b[?25hdone\n",
            "  Building wheel for neo4j-driver (pyproject.toml) ... \u001b[?25l\u001b[?25hdone\n"
          ]
        }
      ],
      "source": [
        "!pip install -q neo4j\n",
        "!pip install -q neo4j-driver"
      ]
    },
    {
      "cell_type": "markdown",
      "source": [
        "# Imports"
      ],
      "metadata": {
        "id": "WQGCGxkjgtoN"
      }
    },
    {
      "cell_type": "code",
      "source": [
        "from neo4j import GraphDatabase"
      ],
      "metadata": {
        "id": "iqlVtQ3cfWfr"
      },
      "execution_count": null,
      "outputs": []
    },
    {
      "cell_type": "markdown",
      "source": [
        "# Connecting to AuraDB!"
      ],
      "metadata": {
        "id": "WPujel4Cgvds"
      }
    },
    {
      "cell_type": "code",
      "source": [
        "URI = \"Neo4j URL\"\n",
        "AUTH = (\"Username\", \"Password\")\n",
        "\n",
        "with GraphDatabase.driver(URI, auth=AUTH) as driver:\n",
        "    driver.verify_connectivity()"
      ],
      "metadata": {
        "id": "1Jm1Wf8nfo3P"
      },
      "execution_count": null,
      "outputs": []
    },
    {
      "cell_type": "code",
      "source": [
        "with driver.session() as session:\n",
        "    result = session.run(\"MATCH (N) Return N\")\n",
        "    for record in result:\n",
        "        print(record)"
      ],
      "metadata": {
        "id": "JXvpkHFcf3XB",
        "colab": {
          "base_uri": "https://localhost:8080/"
        },
        "outputId": "ce9f5b3f-3556-4dec-f8fc-03a27f1a0f83"
      },
      "execution_count": null,
      "outputs": [
        {
          "output_type": "stream",
          "name": "stdout",
          "text": [
            "<Record N=<Node element_id='4:37eff849-264f-415f-844a-05668ae4e80b:0' labels=frozenset({'Movie'}) properties={'tagline': 'Welcome to the Real World', 'title': 'The Matrix', 'released': 1999}>>\n",
            "<Record N=<Node element_id='4:37eff849-264f-415f-844a-05668ae4e80b:1' labels=frozenset({'Person'}) properties={'born': 1964, 'name': 'Keanu Reeves'}>>\n",
            "<Record N=<Node element_id='4:37eff849-264f-415f-844a-05668ae4e80b:2' labels=frozenset({'Person'}) properties={'born': 1967, 'name': 'Carrie-Anne Moss'}>>\n",
            "<Record N=<Node element_id='4:37eff849-264f-415f-844a-05668ae4e80b:3' labels=frozenset({'Person'}) properties={'born': 1961, 'name': 'Laurence Fishburne'}>>\n",
            "<Record N=<Node element_id='4:37eff849-264f-415f-844a-05668ae4e80b:4' labels=frozenset({'Person'}) properties={'born': 1960, 'name': 'Hugo Weaving'}>>\n",
            "<Record N=<Node element_id='4:37eff849-264f-415f-844a-05668ae4e80b:5' labels=frozenset({'Person'}) properties={'born': 1967, 'name': 'Lilly Wachowski'}>>\n",
            "<Record N=<Node element_id='4:37eff849-264f-415f-844a-05668ae4e80b:6' labels=frozenset({'Person'}) properties={'born': 1965, 'name': 'Lana Wachowski'}>>\n",
            "<Record N=<Node element_id='4:37eff849-264f-415f-844a-05668ae4e80b:7' labels=frozenset({'Person'}) properties={'born': 1952, 'name': 'Joel Silver'}>>\n",
            "<Record N=<Node element_id='4:37eff849-264f-415f-844a-05668ae4e80b:8' labels=frozenset({'Person'}) properties={'born': 1978, 'name': 'Emil Eifrem'}>>\n",
            "<Record N=<Node element_id='4:37eff849-264f-415f-844a-05668ae4e80b:9' labels=frozenset({'Movie'}) properties={'tagline': 'Free your mind', 'title': 'The Matrix Reloaded', 'released': 2003}>>\n",
            "<Record N=<Node element_id='4:37eff849-264f-415f-844a-05668ae4e80b:10' labels=frozenset({'Movie'}) properties={'tagline': 'Everything that has a beginning has an end', 'title': 'The Matrix Revolutions', 'released': 2003}>>\n",
            "<Record N=<Node element_id='4:37eff849-264f-415f-844a-05668ae4e80b:11' labels=frozenset({'Movie'}) properties={'tagline': 'Evil has its winning ways', 'title': \"The Devil's Advocate\", 'released': 1997}>>\n",
            "<Record N=<Node element_id='4:37eff849-264f-415f-844a-05668ae4e80b:12' labels=frozenset({'Person'}) properties={'born': 1975, 'name': 'Charlize Theron'}>>\n",
            "<Record N=<Node element_id='4:37eff849-264f-415f-844a-05668ae4e80b:13' labels=frozenset({'Person'}) properties={'born': 1940, 'name': 'Al Pacino'}>>\n",
            "<Record N=<Node element_id='4:37eff849-264f-415f-844a-05668ae4e80b:14' labels=frozenset({'Person'}) properties={'born': 1944, 'name': 'Taylor Hackford'}>>\n",
            "<Record N=<Node element_id='4:37eff849-264f-415f-844a-05668ae4e80b:15' labels=frozenset({'Movie'}) properties={'tagline': \"In the heart of the nation's capital, in a courthouse of the U.S. government, one man will stop at nothing to keep his honor, and one will stop at nothing to find the truth.\", 'title': 'A Few Good Men', 'released': 1992}>>\n",
            "<Record N=<Node element_id='4:37eff849-264f-415f-844a-05668ae4e80b:16' labels=frozenset({'Person'}) properties={'born': 1962, 'name': 'Tom Cruise'}>>\n",
            "<Record N=<Node element_id='4:37eff849-264f-415f-844a-05668ae4e80b:17' labels=frozenset({'Person'}) properties={'born': 1937, 'name': 'Jack Nicholson'}>>\n",
            "<Record N=<Node element_id='4:37eff849-264f-415f-844a-05668ae4e80b:18' labels=frozenset({'Person'}) properties={'born': 1962, 'name': 'Demi Moore'}>>\n",
            "<Record N=<Node element_id='4:37eff849-264f-415f-844a-05668ae4e80b:19' labels=frozenset({'Person'}) properties={'born': 1958, 'name': 'Kevin Bacon'}>>\n",
            "<Record N=<Node element_id='4:37eff849-264f-415f-844a-05668ae4e80b:20' labels=frozenset({'Person'}) properties={'born': 1966, 'name': 'Kiefer Sutherland'}>>\n",
            "<Record N=<Node element_id='4:37eff849-264f-415f-844a-05668ae4e80b:21' labels=frozenset({'Person'}) properties={'born': 1971, 'name': 'Noah Wyle'}>>\n",
            "<Record N=<Node element_id='4:37eff849-264f-415f-844a-05668ae4e80b:22' labels=frozenset({'Person'}) properties={'born': 1968, 'name': 'Cuba Gooding Jr.'}>>\n",
            "<Record N=<Node element_id='4:37eff849-264f-415f-844a-05668ae4e80b:23' labels=frozenset({'Person'}) properties={'born': 1957, 'name': 'Kevin Pollak'}>>\n",
            "<Record N=<Node element_id='4:37eff849-264f-415f-844a-05668ae4e80b:24' labels=frozenset({'Person'}) properties={'born': 1943, 'name': 'J.T. Walsh'}>>\n",
            "<Record N=<Node element_id='4:37eff849-264f-415f-844a-05668ae4e80b:25' labels=frozenset({'Person'}) properties={'born': 1967, 'name': 'James Marshall'}>>\n",
            "<Record N=<Node element_id='4:37eff849-264f-415f-844a-05668ae4e80b:26' labels=frozenset({'Person'}) properties={'born': 1948, 'name': 'Christopher Guest'}>>\n",
            "<Record N=<Node element_id='4:37eff849-264f-415f-844a-05668ae4e80b:27' labels=frozenset({'Person'}) properties={'born': 1947, 'name': 'Rob Reiner'}>>\n",
            "<Record N=<Node element_id='4:37eff849-264f-415f-844a-05668ae4e80b:28' labels=frozenset({'Person'}) properties={'born': 1961, 'name': 'Aaron Sorkin'}>>\n",
            "<Record N=<Node element_id='4:37eff849-264f-415f-844a-05668ae4e80b:29' labels=frozenset({'Movie'}) properties={'tagline': 'I feel the need, the need for speed.', 'title': 'Top Gun', 'released': 1986}>>\n",
            "<Record N=<Node element_id='4:37eff849-264f-415f-844a-05668ae4e80b:30' labels=frozenset({'Person'}) properties={'born': 1957, 'name': 'Kelly McGillis'}>>\n",
            "<Record N=<Node element_id='4:37eff849-264f-415f-844a-05668ae4e80b:31' labels=frozenset({'Person'}) properties={'born': 1959, 'name': 'Val Kilmer'}>>\n",
            "<Record N=<Node element_id='4:37eff849-264f-415f-844a-05668ae4e80b:32' labels=frozenset({'Person'}) properties={'born': 1962, 'name': 'Anthony Edwards'}>>\n",
            "<Record N=<Node element_id='4:37eff849-264f-415f-844a-05668ae4e80b:33' labels=frozenset({'Person'}) properties={'born': 1933, 'name': 'Tom Skerritt'}>>\n",
            "<Record N=<Node element_id='4:37eff849-264f-415f-844a-05668ae4e80b:34' labels=frozenset({'Person'}) properties={'born': 1961, 'name': 'Meg Ryan'}>>\n",
            "<Record N=<Node element_id='4:37eff849-264f-415f-844a-05668ae4e80b:35' labels=frozenset({'Person'}) properties={'born': 1944, 'name': 'Tony Scott'}>>\n",
            "<Record N=<Node element_id='4:37eff849-264f-415f-844a-05668ae4e80b:36' labels=frozenset({'Person'}) properties={'born': 1941, 'name': 'Jim Cash'}>>\n",
            "<Record N=<Node element_id='4:37eff849-264f-415f-844a-05668ae4e80b:37' labels=frozenset({'Movie'}) properties={'tagline': 'The rest of his life begins now.', 'title': 'Jerry Maguire', 'released': 2000}>>\n",
            "<Record N=<Node element_id='4:37eff849-264f-415f-844a-05668ae4e80b:38' labels=frozenset({'Person'}) properties={'born': 1969, 'name': 'Renee Zellweger'}>>\n",
            "<Record N=<Node element_id='4:37eff849-264f-415f-844a-05668ae4e80b:39' labels=frozenset({'Person'}) properties={'born': 1962, 'name': 'Kelly Preston'}>>\n",
            "<Record N=<Node element_id='4:37eff849-264f-415f-844a-05668ae4e80b:40' labels=frozenset({'Person'}) properties={'born': 1974, 'name': \"Jerry O'Connell\"}>>\n",
            "<Record N=<Node element_id='4:37eff849-264f-415f-844a-05668ae4e80b:41' labels=frozenset({'Person'}) properties={'born': 1970, 'name': 'Jay Mohr'}>>\n",
            "<Record N=<Node element_id='4:37eff849-264f-415f-844a-05668ae4e80b:42' labels=frozenset({'Person'}) properties={'born': 1961, 'name': 'Bonnie Hunt'}>>\n",
            "<Record N=<Node element_id='4:37eff849-264f-415f-844a-05668ae4e80b:43' labels=frozenset({'Person'}) properties={'born': 1971, 'name': 'Regina King'}>>\n",
            "<Record N=<Node element_id='4:37eff849-264f-415f-844a-05668ae4e80b:44' labels=frozenset({'Person'}) properties={'born': 1996, 'name': 'Jonathan Lipnicki'}>>\n",
            "<Record N=<Node element_id='4:37eff849-264f-415f-844a-05668ae4e80b:45' labels=frozenset({'Person'}) properties={'born': 1957, 'name': 'Cameron Crowe'}>>\n",
            "<Record N=<Node element_id='4:37eff849-264f-415f-844a-05668ae4e80b:46' labels=frozenset({'Movie'}) properties={'tagline': \"For some, it's the last real taste of innocence, and the first real taste of life. But for everyone, it's the time that memories are made of.\", 'title': 'Stand By Me', 'released': 1986}>>\n",
            "<Record N=<Node element_id='4:37eff849-264f-415f-844a-05668ae4e80b:47' labels=frozenset({'Person'}) properties={'born': 1970, 'name': 'River Phoenix'}>>\n",
            "<Record N=<Node element_id='4:37eff849-264f-415f-844a-05668ae4e80b:48' labels=frozenset({'Person'}) properties={'born': 1971, 'name': 'Corey Feldman'}>>\n",
            "<Record N=<Node element_id='4:37eff849-264f-415f-844a-05668ae4e80b:49' labels=frozenset({'Person'}) properties={'born': 1972, 'name': 'Wil Wheaton'}>>\n",
            "<Record N=<Node element_id='4:37eff849-264f-415f-844a-05668ae4e80b:50' labels=frozenset({'Person'}) properties={'born': 1966, 'name': 'John Cusack'}>>\n",
            "<Record N=<Node element_id='4:37eff849-264f-415f-844a-05668ae4e80b:51' labels=frozenset({'Person'}) properties={'born': 1942, 'name': 'Marshall Bell'}>>\n",
            "<Record N=<Node element_id='4:37eff849-264f-415f-844a-05668ae4e80b:52' labels=frozenset({'Movie'}) properties={'tagline': 'A comedy from the heart that goes for the throat.', 'title': 'As Good as It Gets', 'released': 1997}>>\n",
            "<Record N=<Node element_id='4:37eff849-264f-415f-844a-05668ae4e80b:53' labels=frozenset({'Person'}) properties={'born': 1963, 'name': 'Helen Hunt'}>>\n",
            "<Record N=<Node element_id='4:37eff849-264f-415f-844a-05668ae4e80b:54' labels=frozenset({'Person'}) properties={'born': 1963, 'name': 'Greg Kinnear'}>>\n",
            "<Record N=<Node element_id='4:37eff849-264f-415f-844a-05668ae4e80b:55' labels=frozenset({'Person'}) properties={'born': 1940, 'name': 'James L. Brooks'}>>\n",
            "<Record N=<Node element_id='4:37eff849-264f-415f-844a-05668ae4e80b:56' labels=frozenset({'Movie'}) properties={'tagline': 'After life there is more. The end is just the beginning.', 'title': 'What Dreams May Come', 'released': 1998}>>\n",
            "<Record N=<Node element_id='4:37eff849-264f-415f-844a-05668ae4e80b:57' labels=frozenset({'Person'}) properties={'born': 1960, 'name': 'Annabella Sciorra'}>>\n",
            "<Record N=<Node element_id='4:37eff849-264f-415f-844a-05668ae4e80b:58' labels=frozenset({'Person'}) properties={'born': 1929, 'name': 'Max von Sydow'}>>\n",
            "<Record N=<Node element_id='4:37eff849-264f-415f-844a-05668ae4e80b:59' labels=frozenset({'Person'}) properties={'born': 1942, 'name': 'Werner Herzog'}>>\n",
            "<Record N=<Node element_id='4:37eff849-264f-415f-844a-05668ae4e80b:60' labels=frozenset({'Person'}) properties={'born': 1951, 'name': 'Robin Williams'}>>\n",
            "<Record N=<Node element_id='4:37eff849-264f-415f-844a-05668ae4e80b:61' labels=frozenset({'Person'}) properties={'born': 1956, 'name': 'Vincent Ward'}>>\n",
            "<Record N=<Node element_id='4:37eff849-264f-415f-844a-05668ae4e80b:62' labels=frozenset({'Movie'}) properties={'tagline': 'First loves last. Forever.', 'title': 'Snow Falling on Cedars', 'released': 1999}>>\n",
            "<Record N=<Node element_id='4:37eff849-264f-415f-844a-05668ae4e80b:63' labels=frozenset({'Person'}) properties={'born': 1970, 'name': 'Ethan Hawke'}>>\n",
            "<Record N=<Node element_id='4:37eff849-264f-415f-844a-05668ae4e80b:64' labels=frozenset({'Person'}) properties={'born': 1971, 'name': 'Rick Yune'}>>\n",
            "<Record N=<Node element_id='4:37eff849-264f-415f-844a-05668ae4e80b:65' labels=frozenset({'Person'}) properties={'born': 1940, 'name': 'James Cromwell'}>>\n",
            "<Record N=<Node element_id='4:37eff849-264f-415f-844a-05668ae4e80b:66' labels=frozenset({'Person'}) properties={'born': 1953, 'name': 'Scott Hicks'}>>\n",
            "<Record N=<Node element_id='4:37eff849-264f-415f-844a-05668ae4e80b:67' labels=frozenset({'Movie'}) properties={'tagline': 'At odds in life... in love on-line.', 'title': \"You've Got Mail\", 'released': 1998}>>\n",
            "<Record N=<Node element_id='4:37eff849-264f-415f-844a-05668ae4e80b:68' labels=frozenset({'Person'}) properties={'born': 1968, 'name': 'Parker Posey'}>>\n",
            "<Record N=<Node element_id='4:37eff849-264f-415f-844a-05668ae4e80b:69' labels=frozenset({'Person'}) properties={'born': 1973, 'name': 'Dave Chappelle'}>>\n",
            "<Record N=<Node element_id='4:37eff849-264f-415f-844a-05668ae4e80b:70' labels=frozenset({'Person'}) properties={'born': 1967, 'name': 'Steve Zahn'}>>\n",
            "<Record N=<Node element_id='4:37eff849-264f-415f-844a-05668ae4e80b:71' labels=frozenset({'Person'}) properties={'born': 1956, 'name': 'Tom Hanks'}>>\n",
            "<Record N=<Node element_id='4:37eff849-264f-415f-844a-05668ae4e80b:72' labels=frozenset({'Person'}) properties={'born': 1941, 'name': 'Nora Ephron'}>>\n",
            "<Record N=<Node element_id='4:37eff849-264f-415f-844a-05668ae4e80b:73' labels=frozenset({'Movie'}) properties={'tagline': 'What if someone you never met, someone you never saw, someone you never knew was the only someone for you?', 'title': 'Sleepless in Seattle', 'released': 1993}>>\n",
            "<Record N=<Node element_id='4:37eff849-264f-415f-844a-05668ae4e80b:74' labels=frozenset({'Person'}) properties={'born': 1956, 'name': 'Rita Wilson'}>>\n",
            "<Record N=<Node element_id='4:37eff849-264f-415f-844a-05668ae4e80b:75' labels=frozenset({'Person'}) properties={'born': 1953, 'name': 'Bill Pullman'}>>\n",
            "<Record N=<Node element_id='4:37eff849-264f-415f-844a-05668ae4e80b:76' labels=frozenset({'Person'}) properties={'born': 1949, 'name': 'Victor Garber'}>>\n",
            "<Record N=<Node element_id='4:37eff849-264f-415f-844a-05668ae4e80b:77' labels=frozenset({'Person'}) properties={'born': 1962, 'name': \"Rosie O'Donnell\"}>>\n",
            "<Record N=<Node element_id='4:37eff849-264f-415f-844a-05668ae4e80b:78' labels=frozenset({'Movie'}) properties={'tagline': 'A story of love, lava and burning desire.', 'title': 'Joe Versus the Volcano', 'released': 1990}>>\n",
            "<Record N=<Node element_id='4:37eff849-264f-415f-844a-05668ae4e80b:79' labels=frozenset({'Person'}) properties={'born': 1950, 'name': 'John Patrick Stanley'}>>\n",
            "<Record N=<Node element_id='4:37eff849-264f-415f-844a-05668ae4e80b:80' labels=frozenset({'Person'}) properties={'born': 1956, 'name': 'Nathan Lane'}>>\n",
            "<Record N=<Node element_id='4:37eff849-264f-415f-844a-05668ae4e80b:81' labels=frozenset({'Movie'}) properties={'tagline': 'Can two friends sleep together and still love each other in the morning?', 'title': 'When Harry Met Sally', 'released': 1998}>>\n",
            "<Record N=<Node element_id='4:37eff849-264f-415f-844a-05668ae4e80b:82' labels=frozenset({'Person'}) properties={'born': 1948, 'name': 'Billy Crystal'}>>\n",
            "<Record N=<Node element_id='4:37eff849-264f-415f-844a-05668ae4e80b:83' labels=frozenset({'Person'}) properties={'born': 1956, 'name': 'Carrie Fisher'}>>\n",
            "<Record N=<Node element_id='4:37eff849-264f-415f-844a-05668ae4e80b:84' labels=frozenset({'Person'}) properties={'born': 1949, 'name': 'Bruno Kirby'}>>\n",
            "<Record N=<Node element_id='4:37eff849-264f-415f-844a-05668ae4e80b:85' labels=frozenset({'Movie'}) properties={'tagline': 'In every life there comes a time when that thing you dream becomes that thing you do', 'title': 'That Thing You Do', 'released': 1996}>>\n",
            "<Record N=<Node element_id='4:37eff849-264f-415f-844a-05668ae4e80b:86' labels=frozenset({'Person'}) properties={'born': 1977, 'name': 'Liv Tyler'}>>\n",
            "<Record N=<Node element_id='4:37eff849-264f-415f-844a-05668ae4e80b:87' labels=frozenset({'Movie'}) properties={'tagline': 'Pain heals, Chicks dig scars... Glory lasts forever', 'title': 'The Replacements', 'released': 2000}>>\n",
            "<Record N=<Node element_id='4:37eff849-264f-415f-844a-05668ae4e80b:88' labels=frozenset({'Person'}) properties={'born': 1970, 'name': 'Brooke Langton'}>>\n",
            "<Record N=<Node element_id='4:37eff849-264f-415f-844a-05668ae4e80b:89' labels=frozenset({'Person'}) properties={'born': 1930, 'name': 'Gene Hackman'}>>\n",
            "<Record N=<Node element_id='4:37eff849-264f-415f-844a-05668ae4e80b:90' labels=frozenset({'Person'}) properties={'born': 1968, 'name': 'Orlando Jones'}>>\n",
            "<Record N=<Node element_id='4:37eff849-264f-415f-844a-05668ae4e80b:91' labels=frozenset({'Person'}) properties={'born': 1950, 'name': 'Howard Deutch'}>>\n",
            "<Record N=<Node element_id='4:37eff849-264f-415f-844a-05668ae4e80b:92' labels=frozenset({'Movie'}) properties={'tagline': \"Based on the extraordinary true story of one man's fight for freedom\", 'title': 'RescueDawn', 'released': 2006}>>\n",
            "<Record N=<Node element_id='4:37eff849-264f-415f-844a-05668ae4e80b:93' labels=frozenset({'Person'}) properties={'born': 1974, 'name': 'Christian Bale'}>>\n",
            "<Record N=<Node element_id='4:37eff849-264f-415f-844a-05668ae4e80b:94' labels=frozenset({'Person'}) properties={'born': 1954, 'name': 'Zach Grenier'}>>\n",
            "<Record N=<Node element_id='4:37eff849-264f-415f-844a-05668ae4e80b:95' labels=frozenset({'Movie'}) properties={'tagline': 'Come as you are', 'title': 'The Birdcage', 'released': 1996}>>\n",
            "<Record N=<Node element_id='4:37eff849-264f-415f-844a-05668ae4e80b:96' labels=frozenset({'Person'}) properties={'born': 1931, 'name': 'Mike Nichols'}>>\n",
            "<Record N=<Node element_id='4:37eff849-264f-415f-844a-05668ae4e80b:97' labels=frozenset({'Movie'}) properties={'tagline': \"It's a hell of a thing, killing a man\", 'title': 'Unforgiven', 'released': 1992}>>\n",
            "<Record N=<Node element_id='4:37eff849-264f-415f-844a-05668ae4e80b:98' labels=frozenset({'Person'}) properties={'born': 1930, 'name': 'Richard Harris'}>>\n",
            "<Record N=<Node element_id='4:37eff849-264f-415f-844a-05668ae4e80b:99' labels=frozenset({'Person'}) properties={'born': 1930, 'name': 'Clint Eastwood'}>>\n",
            "<Record N=<Node element_id='4:37eff849-264f-415f-844a-05668ae4e80b:100' labels=frozenset({'Movie'}) properties={'tagline': 'The hottest data on earth. In the coolest head in town', 'title': 'Johnny Mnemonic', 'released': 1995}>>\n",
            "<Record N=<Node element_id='4:37eff849-264f-415f-844a-05668ae4e80b:101' labels=frozenset({'Person'}) properties={'born': 1947, 'name': 'Takeshi Kitano'}>>\n",
            "<Record N=<Node element_id='4:37eff849-264f-415f-844a-05668ae4e80b:102' labels=frozenset({'Person'}) properties={'born': 1968, 'name': 'Dina Meyer'}>>\n",
            "<Record N=<Node element_id='4:37eff849-264f-415f-844a-05668ae4e80b:103' labels=frozenset({'Person'}) properties={'born': 1958, 'name': 'Ice-T'}>>\n",
            "<Record N=<Node element_id='4:37eff849-264f-415f-844a-05668ae4e80b:104' labels=frozenset({'Person'}) properties={'born': 1953, 'name': 'Robert Longo'}>>\n",
            "<Record N=<Node element_id='4:37eff849-264f-415f-844a-05668ae4e80b:105' labels=frozenset({'Movie'}) properties={'tagline': 'Everything is connected', 'title': 'Cloud Atlas', 'released': 2012}>>\n",
            "<Record N=<Node element_id='4:37eff849-264f-415f-844a-05668ae4e80b:106' labels=frozenset({'Person'}) properties={'born': 1966, 'name': 'Halle Berry'}>>\n",
            "<Record N=<Node element_id='4:37eff849-264f-415f-844a-05668ae4e80b:107' labels=frozenset({'Person'}) properties={'born': 1949, 'name': 'Jim Broadbent'}>>\n",
            "<Record N=<Node element_id='4:37eff849-264f-415f-844a-05668ae4e80b:108' labels=frozenset({'Person'}) properties={'born': 1965, 'name': 'Tom Tykwer'}>>\n",
            "<Record N=<Node element_id='4:37eff849-264f-415f-844a-05668ae4e80b:109' labels=frozenset({'Person'}) properties={'born': 1969, 'name': 'David Mitchell'}>>\n",
            "<Record N=<Node element_id='4:37eff849-264f-415f-844a-05668ae4e80b:110' labels=frozenset({'Person'}) properties={'born': 1961, 'name': 'Stefan Arndt'}>>\n",
            "<Record N=<Node element_id='4:37eff849-264f-415f-844a-05668ae4e80b:111' labels=frozenset({'Movie'}) properties={'tagline': 'Break The Codes', 'title': 'The Da Vinci Code', 'released': 2006}>>\n",
            "<Record N=<Node element_id='4:37eff849-264f-415f-844a-05668ae4e80b:112' labels=frozenset({'Person'}) properties={'born': 1939, 'name': 'Ian McKellen'}>>\n",
            "<Record N=<Node element_id='4:37eff849-264f-415f-844a-05668ae4e80b:113' labels=frozenset({'Person'}) properties={'born': 1976, 'name': 'Audrey Tautou'}>>\n",
            "<Record N=<Node element_id='4:37eff849-264f-415f-844a-05668ae4e80b:114' labels=frozenset({'Person'}) properties={'born': 1971, 'name': 'Paul Bettany'}>>\n",
            "<Record N=<Node element_id='4:37eff849-264f-415f-844a-05668ae4e80b:115' labels=frozenset({'Person'}) properties={'born': 1954, 'name': 'Ron Howard'}>>\n",
            "<Record N=<Node element_id='4:37eff849-264f-415f-844a-05668ae4e80b:116' labels=frozenset({'Movie'}) properties={'tagline': 'Freedom! Forever!', 'title': 'V for Vendetta', 'released': 2006}>>\n",
            "<Record N=<Node element_id='4:37eff849-264f-415f-844a-05668ae4e80b:117' labels=frozenset({'Person'}) properties={'born': 1981, 'name': 'Natalie Portman'}>>\n",
            "<Record N=<Node element_id='4:37eff849-264f-415f-844a-05668ae4e80b:118' labels=frozenset({'Person'}) properties={'born': 1946, 'name': 'Stephen Rea'}>>\n",
            "<Record N=<Node element_id='4:37eff849-264f-415f-844a-05668ae4e80b:119' labels=frozenset({'Person'}) properties={'born': 1940, 'name': 'John Hurt'}>>\n",
            "<Record N=<Node element_id='4:37eff849-264f-415f-844a-05668ae4e80b:120' labels=frozenset({'Person'}) properties={'born': 1967, 'name': 'Ben Miles'}>>\n",
            "<Record N=<Node element_id='4:37eff849-264f-415f-844a-05668ae4e80b:121' labels=frozenset({'Movie'}) properties={'tagline': 'Speed has no limits', 'title': 'Speed Racer', 'released': 2008}>>\n",
            "<Record N=<Node element_id='4:37eff849-264f-415f-844a-05668ae4e80b:122' labels=frozenset({'Person'}) properties={'born': 1985, 'name': 'Emile Hirsch'}>>\n",
            "<Record N=<Node element_id='4:37eff849-264f-415f-844a-05668ae4e80b:123' labels=frozenset({'Person'}) properties={'born': 1960, 'name': 'John Goodman'}>>\n",
            "<Record N=<Node element_id='4:37eff849-264f-415f-844a-05668ae4e80b:124' labels=frozenset({'Person'}) properties={'born': 1946, 'name': 'Susan Sarandon'}>>\n",
            "<Record N=<Node element_id='4:37eff849-264f-415f-844a-05668ae4e80b:125' labels=frozenset({'Person'}) properties={'born': 1966, 'name': 'Matthew Fox'}>>\n",
            "<Record N=<Node element_id='4:37eff849-264f-415f-844a-05668ae4e80b:126' labels=frozenset({'Person'}) properties={'born': 1980, 'name': 'Christina Ricci'}>>\n",
            "<Record N=<Node element_id='4:37eff849-264f-415f-844a-05668ae4e80b:127' labels=frozenset({'Person'}) properties={'born': 1982, 'name': 'Rain'}>>\n",
            "<Record N=<Node element_id='4:37eff849-264f-415f-844a-05668ae4e80b:128' labels=frozenset({'Movie'}) properties={'tagline': 'Prepare to enter a secret world of assassins', 'title': 'Ninja Assassin', 'released': 2009}>>\n",
            "<Record N=<Node element_id='4:37eff849-264f-415f-844a-05668ae4e80b:129' labels=frozenset({'Person'}) properties={'name': 'Naomie Harris'}>>\n",
            "<Record N=<Node element_id='4:37eff849-264f-415f-844a-05668ae4e80b:130' labels=frozenset({'Movie'}) properties={'tagline': \"Walk a mile you'll never forget.\", 'title': 'The Green Mile', 'released': 1999}>>\n",
            "<Record N=<Node element_id='4:37eff849-264f-415f-844a-05668ae4e80b:131' labels=frozenset({'Person'}) properties={'born': 1957, 'name': 'Michael Clarke Duncan'}>>\n",
            "<Record N=<Node element_id='4:37eff849-264f-415f-844a-05668ae4e80b:132' labels=frozenset({'Person'}) properties={'born': 1953, 'name': 'David Morse'}>>\n",
            "<Record N=<Node element_id='4:37eff849-264f-415f-844a-05668ae4e80b:133' labels=frozenset({'Person'}) properties={'born': 1968, 'name': 'Sam Rockwell'}>>\n",
            "<Record N=<Node element_id='4:37eff849-264f-415f-844a-05668ae4e80b:134' labels=frozenset({'Person'}) properties={'born': 1955, 'name': 'Gary Sinise'}>>\n",
            "<Record N=<Node element_id='4:37eff849-264f-415f-844a-05668ae4e80b:135' labels=frozenset({'Person'}) properties={'born': 1959, 'name': 'Patricia Clarkson'}>>\n",
            "<Record N=<Node element_id='4:37eff849-264f-415f-844a-05668ae4e80b:136' labels=frozenset({'Person'}) properties={'born': 1959, 'name': 'Frank Darabont'}>>\n",
            "<Record N=<Node element_id='4:37eff849-264f-415f-844a-05668ae4e80b:137' labels=frozenset({'Movie'}) properties={'tagline': '400 million people were waiting for the truth.', 'title': 'Frost/Nixon', 'released': 2008}>>\n",
            "<Record N=<Node element_id='4:37eff849-264f-415f-844a-05668ae4e80b:138' labels=frozenset({'Person'}) properties={'born': 1938, 'name': 'Frank Langella'}>>\n",
            "<Record N=<Node element_id='4:37eff849-264f-415f-844a-05668ae4e80b:139' labels=frozenset({'Person'}) properties={'born': 1969, 'name': 'Michael Sheen'}>>\n",
            "<Record N=<Node element_id='4:37eff849-264f-415f-844a-05668ae4e80b:140' labels=frozenset({'Person'}) properties={'born': 1960, 'name': 'Oliver Platt'}>>\n",
            "<Record N=<Node element_id='4:37eff849-264f-415f-844a-05668ae4e80b:141' labels=frozenset({'Movie'}) properties={'tagline': \"He didn't want law. He wanted justice.\", 'title': 'Hoffa', 'released': 1992}>>\n",
            "<Record N=<Node element_id='4:37eff849-264f-415f-844a-05668ae4e80b:142' labels=frozenset({'Person'}) properties={'born': 1944, 'name': 'Danny DeVito'}>>\n",
            "<Record N=<Node element_id='4:37eff849-264f-415f-844a-05668ae4e80b:143' labels=frozenset({'Person'}) properties={'born': 1965, 'name': 'John C. Reilly'}>>\n",
            "<Record N=<Node element_id='4:37eff849-264f-415f-844a-05668ae4e80b:144' labels=frozenset({'Movie'}) properties={'tagline': 'Houston, we have a problem.', 'title': 'Apollo 13', 'released': 1995}>>\n",
            "<Record N=<Node element_id='4:37eff849-264f-415f-844a-05668ae4e80b:145' labels=frozenset({'Person'}) properties={'born': 1950, 'name': 'Ed Harris'}>>\n",
            "<Record N=<Node element_id='4:37eff849-264f-415f-844a-05668ae4e80b:146' labels=frozenset({'Person'}) properties={'born': 1955, 'name': 'Bill Paxton'}>>\n",
            "<Record N=<Node element_id='4:37eff849-264f-415f-844a-05668ae4e80b:147' labels=frozenset({'Movie'}) properties={'tagline': \"Don't Breathe. Don't Look Back.\", 'title': 'Twister', 'released': 1996}>>\n",
            "<Record N=<Node element_id='4:37eff849-264f-415f-844a-05668ae4e80b:148' labels=frozenset({'Person'}) properties={'born': 1967, 'name': 'Philip Seymour Hoffman'}>>\n",
            "<Record N=<Node element_id='4:37eff849-264f-415f-844a-05668ae4e80b:149' labels=frozenset({'Person'}) properties={'born': 1943, 'name': 'Jan de Bont'}>>\n",
            "<Record N=<Node element_id='4:37eff849-264f-415f-844a-05668ae4e80b:150' labels=frozenset({'Movie'}) properties={'tagline': 'At the edge of the world, his journey begins.', 'title': 'Cast Away', 'released': 2000}>>\n",
            "<Record N=<Node element_id='4:37eff849-264f-415f-844a-05668ae4e80b:151' labels=frozenset({'Person'}) properties={'born': 1951, 'name': 'Robert Zemeckis'}>>\n",
            "<Record N=<Node element_id='4:37eff849-264f-415f-844a-05668ae4e80b:152' labels=frozenset({'Movie'}) properties={'tagline': \"If he's crazy, what does that make you?\", 'title': \"One Flew Over the Cuckoo's Nest\", 'released': 1975}>>\n",
            "<Record N=<Node element_id='4:37eff849-264f-415f-844a-05668ae4e80b:153' labels=frozenset({'Person'}) properties={'born': 1932, 'name': 'Milos Forman'}>>\n",
            "<Record N=<Node element_id='4:37eff849-264f-415f-844a-05668ae4e80b:154' labels=frozenset({'Movie'}) properties={'title': \"Something's Gotta Give\", 'released': 2003}>>\n",
            "<Record N=<Node element_id='4:37eff849-264f-415f-844a-05668ae4e80b:155' labels=frozenset({'Person'}) properties={'born': 1946, 'name': 'Diane Keaton'}>>\n",
            "<Record N=<Node element_id='4:37eff849-264f-415f-844a-05668ae4e80b:156' labels=frozenset({'Person'}) properties={'born': 1949, 'name': 'Nancy Meyers'}>>\n",
            "<Record N=<Node element_id='4:37eff849-264f-415f-844a-05668ae4e80b:157' labels=frozenset({'Movie'}) properties={'tagline': \"One robot's 200 year journey to become an ordinary man.\", 'title': 'Bicentennial Man', 'released': 1999}>>\n",
            "<Record N=<Node element_id='4:37eff849-264f-415f-844a-05668ae4e80b:158' labels=frozenset({'Person'}) properties={'born': 1958, 'name': 'Chris Columbus'}>>\n",
            "<Record N=<Node element_id='4:37eff849-264f-415f-844a-05668ae4e80b:159' labels=frozenset({'Movie'}) properties={'tagline': \"A stiff drink. A little mascara. A lot of nerve. Who said they couldn't bring down the Soviet empire.\", 'title': \"Charlie Wilson's War\", 'released': 2007}>>\n",
            "<Record N=<Node element_id='4:37eff849-264f-415f-844a-05668ae4e80b:160' labels=frozenset({'Person'}) properties={'born': 1967, 'name': 'Julia Roberts'}>>\n",
            "<Record N=<Node element_id='4:37eff849-264f-415f-844a-05668ae4e80b:161' labels=frozenset({'Movie'}) properties={'tagline': 'This Holiday Season… Believe', 'title': 'The Polar Express', 'released': 2004}>>\n",
            "<Record N=<Node element_id='4:37eff849-264f-415f-844a-05668ae4e80b:162' labels=frozenset({'Movie'}) properties={'tagline': 'Once in a lifetime you get a chance to do something different.', 'title': 'A League of Their Own', 'released': 1992}>>\n",
            "<Record N=<Node element_id='4:37eff849-264f-415f-844a-05668ae4e80b:163' labels=frozenset({'Person'}) properties={'born': 1954, 'name': 'Madonna'}>>\n",
            "<Record N=<Node element_id='4:37eff849-264f-415f-844a-05668ae4e80b:164' labels=frozenset({'Person'}) properties={'born': 1956, 'name': 'Geena Davis'}>>\n",
            "<Record N=<Node element_id='4:37eff849-264f-415f-844a-05668ae4e80b:165' labels=frozenset({'Person'}) properties={'born': 1963, 'name': 'Lori Petty'}>>\n",
            "<Record N=<Node element_id='4:37eff849-264f-415f-844a-05668ae4e80b:166' labels=frozenset({'Person'}) properties={'born': 1943, 'name': 'Penny Marshall'}>>\n",
            "<Record N=<Node element_id='4:37eff849-264f-415f-844a-05668ae4e80b:167' labels=frozenset({'Person'}) properties={'name': 'Paul Blythe'}>>\n",
            "<Record N=<Node element_id='4:37eff849-264f-415f-844a-05668ae4e80b:168' labels=frozenset({'Person'}) properties={'name': 'Angela Scope'}>>\n",
            "<Record N=<Node element_id='4:37eff849-264f-415f-844a-05668ae4e80b:169' labels=frozenset({'Person'}) properties={'name': 'Jessica Thompson'}>>\n",
            "<Record N=<Node element_id='4:37eff849-264f-415f-844a-05668ae4e80b:170' labels=frozenset({'Person'}) properties={'name': 'James Thompson'}>>\n"
          ]
        }
      ]
    },
    {
      "cell_type": "markdown",
      "source": [
        "# Let's wrap into a function"
      ],
      "metadata": {
        "id": "LkA_EPGJIkNH"
      }
    },
    {
      "cell_type": "code",
      "source": [
        "def run_cypher_on_aura_db_neo4j(inp_query):\n",
        "    out_list = []\n",
        "    with driver.session() as session:\n",
        "        result = session.run(inp_query)\n",
        "        for record in result:\n",
        "            out_list.append(record)\n",
        "    driver.close()\n",
        "    return out_list"
      ],
      "metadata": {
        "id": "1WuakiZWIjRp"
      },
      "execution_count": null,
      "outputs": []
    },
    {
      "cell_type": "markdown",
      "source": [
        "# Basic Cypher Queries"
      ],
      "metadata": {
        "id": "oWBBvW2Mg11g"
      }
    },
    {
      "cell_type": "markdown",
      "source": [
        "### Find 20 Person Nodes"
      ],
      "metadata": {
        "id": "o9I35jELbdEI"
      }
    },
    {
      "cell_type": "code",
      "source": [
        "query_1 = \"\"\"\n",
        "             MATCH (p:Person)\n",
        "             RETURN p\n",
        "             LIMIT 20\n",
        "          \"\"\"\n",
        "run_cypher_on_aura_db_neo4j(query_1)"
      ],
      "metadata": {
        "colab": {
          "base_uri": "https://localhost:8080/"
        },
        "id": "5qkTYqICatI6",
        "outputId": "2051b1d4-84f0-4905-a031-fdfd728dbdfd"
      },
      "execution_count": null,
      "outputs": [
        {
          "output_type": "execute_result",
          "data": {
            "text/plain": [
              "[<Record p=<Node element_id='4:37eff849-264f-415f-844a-05668ae4e80b:1' labels=frozenset({'Person'}) properties={'born': 1964, 'name': 'Keanu Reeves'}>>,\n",
              " <Record p=<Node element_id='4:37eff849-264f-415f-844a-05668ae4e80b:2' labels=frozenset({'Person'}) properties={'born': 1967, 'name': 'Carrie-Anne Moss'}>>,\n",
              " <Record p=<Node element_id='4:37eff849-264f-415f-844a-05668ae4e80b:3' labels=frozenset({'Person'}) properties={'born': 1961, 'name': 'Laurence Fishburne'}>>,\n",
              " <Record p=<Node element_id='4:37eff849-264f-415f-844a-05668ae4e80b:4' labels=frozenset({'Person'}) properties={'born': 1960, 'name': 'Hugo Weaving'}>>,\n",
              " <Record p=<Node element_id='4:37eff849-264f-415f-844a-05668ae4e80b:5' labels=frozenset({'Person'}) properties={'born': 1967, 'name': 'Lilly Wachowski'}>>,\n",
              " <Record p=<Node element_id='4:37eff849-264f-415f-844a-05668ae4e80b:6' labels=frozenset({'Person'}) properties={'born': 1965, 'name': 'Lana Wachowski'}>>,\n",
              " <Record p=<Node element_id='4:37eff849-264f-415f-844a-05668ae4e80b:7' labels=frozenset({'Person'}) properties={'born': 1952, 'name': 'Joel Silver'}>>,\n",
              " <Record p=<Node element_id='4:37eff849-264f-415f-844a-05668ae4e80b:8' labels=frozenset({'Person'}) properties={'born': 1978, 'name': 'Emil Eifrem'}>>,\n",
              " <Record p=<Node element_id='4:37eff849-264f-415f-844a-05668ae4e80b:12' labels=frozenset({'Person'}) properties={'born': 1975, 'name': 'Charlize Theron'}>>,\n",
              " <Record p=<Node element_id='4:37eff849-264f-415f-844a-05668ae4e80b:13' labels=frozenset({'Person'}) properties={'born': 1940, 'name': 'Al Pacino'}>>,\n",
              " <Record p=<Node element_id='4:37eff849-264f-415f-844a-05668ae4e80b:14' labels=frozenset({'Person'}) properties={'born': 1944, 'name': 'Taylor Hackford'}>>,\n",
              " <Record p=<Node element_id='4:37eff849-264f-415f-844a-05668ae4e80b:16' labels=frozenset({'Person'}) properties={'born': 1962, 'name': 'Tom Cruise'}>>,\n",
              " <Record p=<Node element_id='4:37eff849-264f-415f-844a-05668ae4e80b:17' labels=frozenset({'Person'}) properties={'born': 1937, 'name': 'Jack Nicholson'}>>,\n",
              " <Record p=<Node element_id='4:37eff849-264f-415f-844a-05668ae4e80b:18' labels=frozenset({'Person'}) properties={'born': 1962, 'name': 'Demi Moore'}>>,\n",
              " <Record p=<Node element_id='4:37eff849-264f-415f-844a-05668ae4e80b:19' labels=frozenset({'Person'}) properties={'born': 1958, 'name': 'Kevin Bacon'}>>,\n",
              " <Record p=<Node element_id='4:37eff849-264f-415f-844a-05668ae4e80b:20' labels=frozenset({'Person'}) properties={'born': 1966, 'name': 'Kiefer Sutherland'}>>,\n",
              " <Record p=<Node element_id='4:37eff849-264f-415f-844a-05668ae4e80b:21' labels=frozenset({'Person'}) properties={'born': 1971, 'name': 'Noah Wyle'}>>,\n",
              " <Record p=<Node element_id='4:37eff849-264f-415f-844a-05668ae4e80b:22' labels=frozenset({'Person'}) properties={'born': 1968, 'name': 'Cuba Gooding Jr.'}>>,\n",
              " <Record p=<Node element_id='4:37eff849-264f-415f-844a-05668ae4e80b:23' labels=frozenset({'Person'}) properties={'born': 1957, 'name': 'Kevin Pollak'}>>,\n",
              " <Record p=<Node element_id='4:37eff849-264f-415f-844a-05668ae4e80b:24' labels=frozenset({'Person'}) properties={'born': 1943, 'name': 'J.T. Walsh'}>>]"
            ]
          },
          "metadata": {},
          "execution_count": 6
        }
      ]
    },
    {
      "cell_type": "code",
      "source": [
        "query_1_1 = \"\"\"\n",
        "             MATCH (p:Person)\n",
        "             RETURN p.name\n",
        "             LIMIT 20\n",
        "          \"\"\"\n",
        "run_cypher_on_aura_db_neo4j(query_1_1)"
      ],
      "metadata": {
        "colab": {
          "base_uri": "https://localhost:8080/"
        },
        "id": "04J4w2QtbEAz",
        "outputId": "970952e7-7804-4bed-941a-18dec9a90388"
      },
      "execution_count": null,
      "outputs": [
        {
          "output_type": "execute_result",
          "data": {
            "text/plain": [
              "[<Record p.name='Keanu Reeves'>,\n",
              " <Record p.name='Carrie-Anne Moss'>,\n",
              " <Record p.name='Laurence Fishburne'>,\n",
              " <Record p.name='Hugo Weaving'>,\n",
              " <Record p.name='Lilly Wachowski'>,\n",
              " <Record p.name='Lana Wachowski'>,\n",
              " <Record p.name='Joel Silver'>,\n",
              " <Record p.name='Emil Eifrem'>,\n",
              " <Record p.name='Charlize Theron'>,\n",
              " <Record p.name='Al Pacino'>,\n",
              " <Record p.name='Taylor Hackford'>,\n",
              " <Record p.name='Tom Cruise'>,\n",
              " <Record p.name='Jack Nicholson'>,\n",
              " <Record p.name='Demi Moore'>,\n",
              " <Record p.name='Kevin Bacon'>,\n",
              " <Record p.name='Kiefer Sutherland'>,\n",
              " <Record p.name='Noah Wyle'>,\n",
              " <Record p.name='Cuba Gooding Jr.'>,\n",
              " <Record p.name='Kevin Pollak'>,\n",
              " <Record p.name='J.T. Walsh'>]"
            ]
          },
          "metadata": {},
          "execution_count": 7
        }
      ]
    },
    {
      "cell_type": "markdown",
      "source": [
        "### Return a List of 5 Movie Titles that released after 2000"
      ],
      "metadata": {
        "id": "DPz5hsZQZXkT"
      }
    },
    {
      "cell_type": "code",
      "source": [
        "query_2 = \"\"\"\n",
        "          MATCH (m:Movie)\n",
        "          WHERE m.released > 2000\n",
        "          RETURN m.title LIMIT 5\n",
        "          \"\"\""
      ],
      "metadata": {
        "id": "Vg5eXsLYJn6A"
      },
      "execution_count": null,
      "outputs": []
    },
    {
      "cell_type": "code",
      "source": [
        "run_cypher_on_aura_db_neo4j(query_2)"
      ],
      "metadata": {
        "colab": {
          "base_uri": "https://localhost:8080/"
        },
        "id": "VlZmA-M7IjUf",
        "outputId": "7fb8cc45-d800-4351-d117-7a1aa96029ba"
      },
      "execution_count": null,
      "outputs": [
        {
          "output_type": "execute_result",
          "data": {
            "text/plain": [
              "[<Record m.title='The Matrix Reloaded'>,\n",
              " <Record m.title='The Matrix Revolutions'>,\n",
              " <Record m.title=\"Something's Gotta Give\">,\n",
              " <Record m.title='The Polar Express'>,\n",
              " <Record m.title='RescueDawn'>]"
            ]
          },
          "metadata": {},
          "execution_count": 9
        }
      ]
    },
    {
      "cell_type": "markdown",
      "source": [
        "### Return the count of Movies that released after 2005"
      ],
      "metadata": {
        "id": "w58n1JtEZ0Hg"
      }
    },
    {
      "cell_type": "code",
      "source": [
        "query_2 = \"\"\"\n",
        "          MATCH (m:Movie)\n",
        "          WHERE m.released > 2005\n",
        "          RETURN count(m)\"\"\"\n",
        "\n",
        "run_cypher_on_aura_db_neo4j(query_2)"
      ],
      "metadata": {
        "colab": {
          "base_uri": "https://localhost:8080/"
        },
        "id": "w3HQE-NTSFQq",
        "outputId": "ba295751-10bf-4524-a58e-b733a5dc13f5"
      },
      "execution_count": null,
      "outputs": [
        {
          "output_type": "execute_result",
          "data": {
            "text/plain": [
              "[<Record count(m)=8>]"
            ]
          },
          "metadata": {},
          "execution_count": 10
        }
      ]
    },
    {
      "cell_type": "markdown",
      "source": [
        "### Return the name of Directors that directed a movie after 2010"
      ],
      "metadata": {
        "id": "sE93ZohgbtHA"
      }
    },
    {
      "cell_type": "code",
      "source": [
        "query_3 = \"\"\"\n",
        "          MATCH (p:Person)-[d:DIRECTED]->(m:Movie)\n",
        "          WHERE m.released > 2010\n",
        "          RETURN p.name\"\"\"\n",
        "\n",
        "run_cypher_on_aura_db_neo4j(query_3)"
      ],
      "metadata": {
        "id": "KWKE06GmSFV4",
        "colab": {
          "base_uri": "https://localhost:8080/"
        },
        "outputId": "55369525-5ea0-4af5-cb57-c84d905833f4"
      },
      "execution_count": null,
      "outputs": [
        {
          "output_type": "execute_result",
          "data": {
            "text/plain": [
              "[<Record p.name='Tom Tykwer'>,\n",
              " <Record p.name='Lilly Wachowski'>,\n",
              " <Record p.name='Lana Wachowski'>]"
            ]
          },
          "metadata": {},
          "execution_count": 11
        }
      ]
    },
    {
      "cell_type": "code",
      "source": [
        "query_3_1 = \"\"\"\n",
        "            MATCH (p:Person)-[d:DIRECTED]->(m:Movie)\n",
        "            WHERE m.released > 2010\n",
        "            RETURN p.name, m.title\"\"\"\n",
        "\n",
        "run_cypher_on_aura_db_neo4j(query_3_1)"
      ],
      "metadata": {
        "id": "Fg0dy1xuSFZh",
        "colab": {
          "base_uri": "https://localhost:8080/"
        },
        "outputId": "93f1bbf9-7f04-4c29-df2f-09bdd20af20c"
      },
      "execution_count": null,
      "outputs": [
        {
          "output_type": "execute_result",
          "data": {
            "text/plain": [
              "[<Record p.name='Tom Tykwer' m.title='Cloud Atlas'>,\n",
              " <Record p.name='Lilly Wachowski' m.title='Cloud Atlas'>,\n",
              " <Record p.name='Lana Wachowski' m.title='Cloud Atlas'>]"
            ]
          },
          "metadata": {},
          "execution_count": 12
        }
      ]
    },
    {
      "cell_type": "code",
      "source": [
        "query_3_2 = \"\"\"\n",
        "            MATCH (p:Person)-[d:PRODUCED]->(m:Movie)\n",
        "            WHERE m.released > 2010\n",
        "            RETURN p.name, m.title\"\"\"\n",
        "\n",
        "run_cypher_on_aura_db_neo4j(query_3_2)"
      ],
      "metadata": {
        "id": "NRYa-XUkR4Co",
        "colab": {
          "base_uri": "https://localhost:8080/"
        },
        "outputId": "18aa8e6d-0bcb-46a5-91b1-467f0b36d411"
      },
      "execution_count": null,
      "outputs": [
        {
          "output_type": "execute_result",
          "data": {
            "text/plain": [
              "[<Record p.name='Stefan Arndt' m.title='Cloud Atlas'>]"
            ]
          },
          "metadata": {},
          "execution_count": 13
        }
      ]
    },
    {
      "cell_type": "markdown",
      "source": [
        "### Return the list of movies directed by Lilly Wachowski before 2000"
      ],
      "metadata": {
        "id": "0hqdZWEOcla3"
      }
    },
    {
      "cell_type": "code",
      "source": [
        "query_4 = \"\"\"\n",
        "            MATCH (p:Person)-[d:DIRECTED]->(m:Movie)\n",
        "            WHERE m.released < 2010 AND p.name = \"Lilly Wachowski\"\n",
        "            RETURN m.title\"\"\"\n",
        "\n",
        "run_cypher_on_aura_db_neo4j(query_4)"
      ],
      "metadata": {
        "id": "JUKK1RaAR4GE",
        "colab": {
          "base_uri": "https://localhost:8080/"
        },
        "outputId": "82d97292-6c18-4ffc-deb0-7d582e5843ea"
      },
      "execution_count": null,
      "outputs": [
        {
          "output_type": "execute_result",
          "data": {
            "text/plain": [
              "[<Record m.title='Speed Racer'>,\n",
              " <Record m.title='The Matrix Revolutions'>,\n",
              " <Record m.title='The Matrix Reloaded'>,\n",
              " <Record m.title='The Matrix'>]"
            ]
          },
          "metadata": {},
          "execution_count": 14
        }
      ]
    },
    {
      "cell_type": "markdown",
      "source": [
        "### Return the List of Actors for the Matrix movie series"
      ],
      "metadata": {
        "id": "DEmBFhq9d4W0"
      }
    },
    {
      "cell_type": "code",
      "source": [
        "query_5 = \"\"\"\n",
        "             MATCH (p:Person)-[a:ACTED_IN]->(m:Movie)\n",
        "             WHERE m.title CONTAINS 'Matrix'\n",
        "             RETURN p.name, m.title\"\"\"\n",
        "\n",
        "run_cypher_on_aura_db_neo4j(query_5)"
      ],
      "metadata": {
        "colab": {
          "base_uri": "https://localhost:8080/"
        },
        "id": "t8Wh_4LJd-SM",
        "outputId": "c90a9910-caaf-4a45-87ce-f84ea33632d7"
      },
      "execution_count": null,
      "outputs": [
        {
          "output_type": "execute_result",
          "data": {
            "text/plain": [
              "[<Record p.name='Keanu Reeves' m.title='The Matrix'>,\n",
              " <Record p.name='Emil Eifrem' m.title='The Matrix'>,\n",
              " <Record p.name='Hugo Weaving' m.title='The Matrix'>,\n",
              " <Record p.name='Laurence Fishburne' m.title='The Matrix'>,\n",
              " <Record p.name='Carrie-Anne Moss' m.title='The Matrix'>,\n",
              " <Record p.name='Hugo Weaving' m.title='The Matrix Reloaded'>,\n",
              " <Record p.name='Laurence Fishburne' m.title='The Matrix Reloaded'>,\n",
              " <Record p.name='Carrie-Anne Moss' m.title='The Matrix Reloaded'>,\n",
              " <Record p.name='Keanu Reeves' m.title='The Matrix Reloaded'>,\n",
              " <Record p.name='Hugo Weaving' m.title='The Matrix Revolutions'>,\n",
              " <Record p.name='Laurence Fishburne' m.title='The Matrix Revolutions'>,\n",
              " <Record p.name='Carrie-Anne Moss' m.title='The Matrix Revolutions'>,\n",
              " <Record p.name='Keanu Reeves' m.title='The Matrix Revolutions'>]"
            ]
          },
          "metadata": {},
          "execution_count": 15
        }
      ]
    },
    {
      "cell_type": "markdown",
      "source": [
        "# Advanced Cypher Queries"
      ],
      "metadata": {
        "id": "7RvWd19uelzw"
      }
    },
    {
      "cell_type": "markdown",
      "source": [
        "### Find the name of the people who directed Cloud Atlas movie"
      ],
      "metadata": {
        "id": "KRPBUlS_fMoN"
      }
    },
    {
      "cell_type": "code",
      "source": [
        "query_5_1 = \"\"\"\n",
        "               MATCH (m:Movie {title: 'Cloud Atlas'})<-[d:DIRECTED]-(p:Person)\n",
        "               RETURN p.name\n",
        "            \"\"\"\n",
        "run_cypher_on_aura_db_neo4j(query_5_1)"
      ],
      "metadata": {
        "id": "yEFEuyFrRtiW",
        "colab": {
          "base_uri": "https://localhost:8080/"
        },
        "outputId": "244f12cd-28aa-4fa3-a16b-b75fa1547393"
      },
      "execution_count": null,
      "outputs": [
        {
          "output_type": "execute_result",
          "data": {
            "text/plain": [
              "[<Record p.name='Tom Tykwer'>,\n",
              " <Record p.name='Lilly Wachowski'>,\n",
              " <Record p.name='Lana Wachowski'>]"
            ]
          },
          "metadata": {},
          "execution_count": 16
        }
      ]
    },
    {
      "cell_type": "markdown",
      "source": [
        "### Finding all people who have co-acted with Tom Hanks in any movie"
      ],
      "metadata": {
        "id": "MXCcxsdWfP4i"
      }
    },
    {
      "cell_type": "code",
      "source": [
        "query_5_2 = \"\"\"\n",
        "               MATCH (tom:Person {name: \"Tom Hanks\"})-[:ACTED_IN]->(:Movie)<-[:ACTED_IN]-(p:Person)\n",
        "               RETURN p.name\n",
        "            \"\"\"\n",
        "run_cypher_on_aura_db_neo4j(query_5_2)"
      ],
      "metadata": {
        "id": "X1u07EuORtk3",
        "colab": {
          "base_uri": "https://localhost:8080/"
        },
        "outputId": "a5abc099-f97d-4077-aa04-913087c026dd"
      },
      "execution_count": null,
      "outputs": [
        {
          "output_type": "execute_result",
          "data": {
            "text/plain": [
              "[<Record p.name='Rita Wilson'>,\n",
              " <Record p.name=\"Rosie O'Donnell\">,\n",
              " <Record p.name='Meg Ryan'>,\n",
              " <Record p.name='Victor Garber'>,\n",
              " <Record p.name='Bill Pullman'>,\n",
              " <Record p.name='Kevin Bacon'>,\n",
              " <Record p.name='Bill Paxton'>,\n",
              " <Record p.name='Ed Harris'>,\n",
              " <Record p.name='Gary Sinise'>,\n",
              " <Record p.name='Meg Ryan'>,\n",
              " <Record p.name='Nathan Lane'>,\n",
              " <Record p.name='Helen Hunt'>,\n",
              " <Record p.name='Meg Ryan'>,\n",
              " <Record p.name='Dave Chappelle'>,\n",
              " <Record p.name='Parker Posey'>,\n",
              " <Record p.name='Greg Kinnear'>,\n",
              " <Record p.name='Steve Zahn'>,\n",
              " <Record p.name='Ian McKellen'>,\n",
              " <Record p.name='Audrey Tautou'>,\n",
              " <Record p.name='Paul Bettany'>,\n",
              " <Record p.name='Gary Sinise'>,\n",
              " <Record p.name='James Cromwell'>,\n",
              " <Record p.name='Sam Rockwell'>,\n",
              " <Record p.name='Michael Clarke Duncan'>,\n",
              " <Record p.name='David Morse'>,\n",
              " <Record p.name='Bonnie Hunt'>,\n",
              " <Record p.name='Patricia Clarkson'>,\n",
              " <Record p.name='Philip Seymour Hoffman'>,\n",
              " <Record p.name='Julia Roberts'>,\n",
              " <Record p.name='Liv Tyler'>,\n",
              " <Record p.name='Charlize Theron'>,\n",
              " <Record p.name='Geena Davis'>,\n",
              " <Record p.name='Bill Paxton'>,\n",
              " <Record p.name='Madonna'>,\n",
              " <Record p.name='Lori Petty'>,\n",
              " <Record p.name=\"Rosie O'Donnell\">,\n",
              " <Record p.name='Hugo Weaving'>,\n",
              " <Record p.name='Jim Broadbent'>,\n",
              " <Record p.name='Halle Berry'>]"
            ]
          },
          "metadata": {},
          "execution_count": 17
        }
      ]
    },
    {
      "cell_type": "markdown",
      "source": [
        "### Finding all people related to the movie Cloud Atlas in any way"
      ],
      "metadata": {
        "id": "GY7IjNTdf9TV"
      }
    },
    {
      "cell_type": "code",
      "source": [
        "query_5_3 = \"\"\"\n",
        "               MATCH (p:Person)-[relatedTo]-(m:Movie {title: \"Cloud Atlas\"})\n",
        "               RETURN p.name, type(relatedTo)\n",
        "            \"\"\"\n",
        "\n",
        "run_cypher_on_aura_db_neo4j(query_5_3)"
      ],
      "metadata": {
        "id": "6P_5f7Ezg55u",
        "colab": {
          "base_uri": "https://localhost:8080/"
        },
        "outputId": "ac552bb8-7feb-4856-c660-dd9ddd415603"
      },
      "execution_count": null,
      "outputs": [
        {
          "output_type": "execute_result",
          "data": {
            "text/plain": [
              "[<Record p.name='Hugo Weaving' type(relatedTo)='ACTED_IN'>,\n",
              " <Record p.name='Tom Tykwer' type(relatedTo)='DIRECTED'>,\n",
              " <Record p.name='Stefan Arndt' type(relatedTo)='PRODUCED'>,\n",
              " <Record p.name='Lilly Wachowski' type(relatedTo)='DIRECTED'>,\n",
              " <Record p.name='David Mitchell' type(relatedTo)='WROTE'>,\n",
              " <Record p.name='Jessica Thompson' type(relatedTo)='REVIEWED'>,\n",
              " <Record p.name='Jim Broadbent' type(relatedTo)='ACTED_IN'>,\n",
              " <Record p.name='Halle Berry' type(relatedTo)='ACTED_IN'>,\n",
              " <Record p.name='Tom Hanks' type(relatedTo)='ACTED_IN'>,\n",
              " <Record p.name='Lana Wachowski' type(relatedTo)='DIRECTED'>]"
            ]
          },
          "metadata": {},
          "execution_count": 18
        }
      ]
    },
    {
      "cell_type": "markdown",
      "source": [
        "### Creating a Node"
      ],
      "metadata": {
        "id": "zoWvYOg2hbmn"
      }
    },
    {
      "cell_type": "code",
      "source": [
        "query_6_1 = \"\"\"\n",
        "               CREATE (p:Person {name: 'Christopher Nolan', born: 1970})\n",
        "               RETURN p\n",
        "            \"\"\"\n",
        "run_cypher_on_aura_db_neo4j(query_6_1)"
      ],
      "metadata": {
        "id": "1WccxMZ6hA7R",
        "colab": {
          "base_uri": "https://localhost:8080/"
        },
        "outputId": "df69bb04-bc5d-4f6c-85c1-6d4ef5a89c45"
      },
      "execution_count": null,
      "outputs": [
        {
          "output_type": "execute_result",
          "data": {
            "text/plain": [
              "[<Record p=<Node element_id='4:37eff849-264f-415f-844a-05668ae4e80b:171' labels=frozenset({'Person'}) properties={'born': 1970, 'name': 'Christopher Nolan'}>>]"
            ]
          },
          "metadata": {},
          "execution_count": 19
        }
      ]
    },
    {
      "cell_type": "code",
      "source": [
        "query_6_2 = \"\"\"\n",
        "               CREATE (m:Movie {title: 'Inception', tagline : 'Your mind is the scene of the crime.', released : 2010})\n",
        "               RETURN m\n",
        "            \"\"\"\n",
        "run_cypher_on_aura_db_neo4j(query_6_2)"
      ],
      "metadata": {
        "colab": {
          "base_uri": "https://localhost:8080/"
        },
        "id": "j9UcLTjZirJf",
        "outputId": "a62f32ab-b8fd-4908-b879-4bac789865d3"
      },
      "execution_count": null,
      "outputs": [
        {
          "output_type": "execute_result",
          "data": {
            "text/plain": [
              "[<Record m=<Node element_id='4:37eff849-264f-415f-844a-05668ae4e80b:172' labels=frozenset({'Movie'}) properties={'tagline': 'Your mind is the scene of the crime.', 'title': 'Inception', 'released': 2010}>>]"
            ]
          },
          "metadata": {},
          "execution_count": 20
        }
      ]
    },
    {
      "cell_type": "code",
      "source": [
        "query_6_3 = \"\"\"\n",
        "               MATCH (p:Person {name: 'Christopher Nolan'})\n",
        "               MATCH (m:Movie {title: 'Inception'})\n",
        "               MERGE (p)-[d:DIRECTED]->(m)\n",
        "               RETURN p, d, m\n",
        "            \"\"\"\n",
        "run_cypher_on_aura_db_neo4j(query_6_3)"
      ],
      "metadata": {
        "colab": {
          "base_uri": "https://localhost:8080/"
        },
        "id": "oIRPPWeBgmKR",
        "outputId": "1181b923-8f0a-4360-d71a-19941f321806"
      },
      "execution_count": null,
      "outputs": [
        {
          "output_type": "execute_result",
          "data": {
            "text/plain": [
              "[<Record p=<Node element_id='4:37eff849-264f-415f-844a-05668ae4e80b:171' labels=frozenset({'Person'}) properties={'born': 1970, 'name': 'Christopher Nolan'}> d=<Relationship element_id='5:37eff849-264f-415f-844a-05668ae4e80b:252' nodes=(<Node element_id='4:37eff849-264f-415f-844a-05668ae4e80b:171' labels=frozenset({'Person'}) properties={'born': 1970, 'name': 'Christopher Nolan'}>, <Node element_id='4:37eff849-264f-415f-844a-05668ae4e80b:172' labels=frozenset({'Movie'}) properties={'tagline': 'Your mind is the scene of the crime.', 'title': 'Inception', 'released': 2010}>) type='DIRECTED' properties={}> m=<Node element_id='4:37eff849-264f-415f-844a-05668ae4e80b:172' labels=frozenset({'Movie'}) properties={'tagline': 'Your mind is the scene of the crime.', 'title': 'Inception', 'released': 2010}>>]"
            ]
          },
          "metadata": {},
          "execution_count": 21
        }
      ]
    },
    {
      "cell_type": "code",
      "source": [
        "query_6_4 = \"\"\"\n",
        "               MATCH (p:Person)-[relatedTo]-(m:Movie {title: \"Inception\"})\n",
        "               RETURN p.name, type(relatedTo)\n",
        "            \"\"\"\n",
        "\n",
        "run_cypher_on_aura_db_neo4j(query_6_4)"
      ],
      "metadata": {
        "id": "OBb4DEQUhA9e",
        "colab": {
          "base_uri": "https://localhost:8080/"
        },
        "outputId": "4b492522-0b90-4d70-a484-b0f890571027"
      },
      "execution_count": null,
      "outputs": [
        {
          "output_type": "execute_result",
          "data": {
            "text/plain": [
              "[<Record p.name='Christopher Nolan' type(relatedTo)='DIRECTED'>]"
            ]
          },
          "metadata": {},
          "execution_count": 22
        }
      ]
    },
    {
      "cell_type": "markdown",
      "source": [
        "### Deleting Nodes"
      ],
      "metadata": {
        "id": "APSqlNsIoZdF"
      }
    },
    {
      "cell_type": "code",
      "source": [
        "query_7_1 = \"\"\"\n",
        "               MATCH (p:Person {name: \"Christopher Nolan\"}) DELETE p\n",
        "            \"\"\"\n",
        "run_cypher_on_aura_db_neo4j(query_7_1)"
      ],
      "metadata": {
        "colab": {
          "base_uri": "https://localhost:8080/",
          "height": 381
        },
        "id": "OdTQIPZLjntZ",
        "outputId": "f5d4309e-54e4-4e8e-a522-ea25a91e3593"
      },
      "execution_count": null,
      "outputs": [
        {
          "output_type": "error",
          "ename": "ConstraintError",
          "evalue": "ignored",
          "traceback": [
            "\u001b[0;31m---------------------------------------------------------------------------\u001b[0m",
            "\u001b[0;31mConstraintError\u001b[0m                           Traceback (most recent call last)",
            "\u001b[0;32m<ipython-input-23-bafd707e595a>\u001b[0m in \u001b[0;36m<cell line: 4>\u001b[0;34m()\u001b[0m\n\u001b[1;32m      2\u001b[0m                \u001b[0mMATCH\u001b[0m \u001b[0;34m(\u001b[0m\u001b[0mp\u001b[0m\u001b[0;34m:\u001b[0m\u001b[0mPerson\u001b[0m \u001b[0;34m{\u001b[0m\u001b[0mname\u001b[0m\u001b[0;34m:\u001b[0m \u001b[0;34m\"Christopher Nolan\"\u001b[0m\u001b[0;34m}\u001b[0m\u001b[0;34m)\u001b[0m \u001b[0mDELETE\u001b[0m \u001b[0mp\u001b[0m\u001b[0;34m\u001b[0m\u001b[0;34m\u001b[0m\u001b[0m\n\u001b[1;32m      3\u001b[0m             \"\"\"\n\u001b[0;32m----> 4\u001b[0;31m \u001b[0mrun_cypher_on_aura_db_neo4j\u001b[0m\u001b[0;34m(\u001b[0m\u001b[0mquery_7_1\u001b[0m\u001b[0;34m)\u001b[0m\u001b[0;34m\u001b[0m\u001b[0;34m\u001b[0m\u001b[0m\n\u001b[0m",
            "\u001b[0;32m<ipython-input-5-1f1f7aa9a1b7>\u001b[0m in \u001b[0;36mrun_cypher_on_aura_db_neo4j\u001b[0;34m(inp_query)\u001b[0m\n\u001b[1;32m      3\u001b[0m     \u001b[0;32mwith\u001b[0m \u001b[0mdriver\u001b[0m\u001b[0;34m.\u001b[0m\u001b[0msession\u001b[0m\u001b[0;34m(\u001b[0m\u001b[0;34m)\u001b[0m \u001b[0;32mas\u001b[0m \u001b[0msession\u001b[0m\u001b[0;34m:\u001b[0m\u001b[0;34m\u001b[0m\u001b[0;34m\u001b[0m\u001b[0m\n\u001b[1;32m      4\u001b[0m         \u001b[0mresult\u001b[0m \u001b[0;34m=\u001b[0m \u001b[0msession\u001b[0m\u001b[0;34m.\u001b[0m\u001b[0mrun\u001b[0m\u001b[0;34m(\u001b[0m\u001b[0minp_query\u001b[0m\u001b[0;34m)\u001b[0m\u001b[0;34m\u001b[0m\u001b[0;34m\u001b[0m\u001b[0m\n\u001b[0;32m----> 5\u001b[0;31m         \u001b[0;32mfor\u001b[0m \u001b[0mrecord\u001b[0m \u001b[0;32min\u001b[0m \u001b[0mresult\u001b[0m\u001b[0;34m:\u001b[0m\u001b[0;34m\u001b[0m\u001b[0;34m\u001b[0m\u001b[0m\n\u001b[0m\u001b[1;32m      6\u001b[0m             \u001b[0mout_list\u001b[0m\u001b[0;34m.\u001b[0m\u001b[0mappend\u001b[0m\u001b[0;34m(\u001b[0m\u001b[0mrecord\u001b[0m\u001b[0;34m)\u001b[0m\u001b[0;34m\u001b[0m\u001b[0;34m\u001b[0m\u001b[0m\n\u001b[1;32m      7\u001b[0m     \u001b[0mdriver\u001b[0m\u001b[0;34m.\u001b[0m\u001b[0mclose\u001b[0m\u001b[0;34m(\u001b[0m\u001b[0;34m)\u001b[0m\u001b[0;34m\u001b[0m\u001b[0;34m\u001b[0m\u001b[0m\n",
            "\u001b[0;32m/usr/local/lib/python3.10/dist-packages/neo4j/_sync/work/result.py\u001b[0m in \u001b[0;36m__iter__\u001b[0;34m(self)\u001b[0m\n\u001b[1;32m    249\u001b[0m                 \u001b[0;32myield\u001b[0m \u001b[0mself\u001b[0m\u001b[0;34m.\u001b[0m\u001b[0m_record_buffer\u001b[0m\u001b[0;34m.\u001b[0m\u001b[0mpopleft\u001b[0m\u001b[0;34m(\u001b[0m\u001b[0;34m)\u001b[0m\u001b[0;34m\u001b[0m\u001b[0;34m\u001b[0m\u001b[0m\n\u001b[1;32m    250\u001b[0m             \u001b[0;32melif\u001b[0m \u001b[0mself\u001b[0m\u001b[0;34m.\u001b[0m\u001b[0m_streaming\u001b[0m\u001b[0;34m:\u001b[0m\u001b[0;34m\u001b[0m\u001b[0;34m\u001b[0m\u001b[0m\n\u001b[0;32m--> 251\u001b[0;31m                 \u001b[0mself\u001b[0m\u001b[0;34m.\u001b[0m\u001b[0m_connection\u001b[0m\u001b[0;34m.\u001b[0m\u001b[0mfetch_message\u001b[0m\u001b[0;34m(\u001b[0m\u001b[0;34m)\u001b[0m\u001b[0;34m\u001b[0m\u001b[0;34m\u001b[0m\u001b[0m\n\u001b[0m\u001b[1;32m    252\u001b[0m             \u001b[0;32melif\u001b[0m \u001b[0mself\u001b[0m\u001b[0;34m.\u001b[0m\u001b[0m_discarding\u001b[0m\u001b[0;34m:\u001b[0m\u001b[0;34m\u001b[0m\u001b[0;34m\u001b[0m\u001b[0m\n\u001b[1;32m    253\u001b[0m                 \u001b[0mself\u001b[0m\u001b[0;34m.\u001b[0m\u001b[0m_discard\u001b[0m\u001b[0;34m(\u001b[0m\u001b[0;34m)\u001b[0m\u001b[0;34m\u001b[0m\u001b[0;34m\u001b[0m\u001b[0m\n",
            "\u001b[0;32m/usr/local/lib/python3.10/dist-packages/neo4j/_sync/io/_common.py\u001b[0m in \u001b[0;36minner\u001b[0;34m(*args, **kwargs)\u001b[0m\n\u001b[1;32m    178\u001b[0m             \u001b[0;32mdef\u001b[0m \u001b[0minner\u001b[0m\u001b[0;34m(\u001b[0m\u001b[0;34m*\u001b[0m\u001b[0margs\u001b[0m\u001b[0;34m,\u001b[0m \u001b[0;34m**\u001b[0m\u001b[0mkwargs\u001b[0m\u001b[0;34m)\u001b[0m\u001b[0;34m:\u001b[0m\u001b[0;34m\u001b[0m\u001b[0;34m\u001b[0m\u001b[0m\n\u001b[1;32m    179\u001b[0m                 \u001b[0;32mtry\u001b[0m\u001b[0;34m:\u001b[0m\u001b[0;34m\u001b[0m\u001b[0;34m\u001b[0m\u001b[0m\n\u001b[0;32m--> 180\u001b[0;31m                     \u001b[0mfunc\u001b[0m\u001b[0;34m(\u001b[0m\u001b[0;34m*\u001b[0m\u001b[0margs\u001b[0m\u001b[0;34m,\u001b[0m \u001b[0;34m**\u001b[0m\u001b[0mkwargs\u001b[0m\u001b[0;34m)\u001b[0m\u001b[0;34m\u001b[0m\u001b[0;34m\u001b[0m\u001b[0m\n\u001b[0m\u001b[1;32m    181\u001b[0m                 \u001b[0;32mexcept\u001b[0m \u001b[0;34m(\u001b[0m\u001b[0mNeo4jError\u001b[0m\u001b[0;34m,\u001b[0m \u001b[0mServiceUnavailable\u001b[0m\u001b[0;34m,\u001b[0m \u001b[0mSessionExpired\u001b[0m\u001b[0;34m)\u001b[0m \u001b[0;32mas\u001b[0m \u001b[0mexc\u001b[0m\u001b[0;34m:\u001b[0m\u001b[0;34m\u001b[0m\u001b[0;34m\u001b[0m\u001b[0m\n\u001b[1;32m    182\u001b[0m                     \u001b[0;32massert\u001b[0m \u001b[0;32mnot\u001b[0m \u001b[0masyncio\u001b[0m\u001b[0;34m.\u001b[0m\u001b[0miscoroutinefunction\u001b[0m\u001b[0;34m(\u001b[0m\u001b[0mself\u001b[0m\u001b[0;34m.\u001b[0m\u001b[0m__on_error\u001b[0m\u001b[0;34m)\u001b[0m\u001b[0;34m\u001b[0m\u001b[0;34m\u001b[0m\u001b[0m\n",
            "\u001b[0;32m/usr/local/lib/python3.10/dist-packages/neo4j/_sync/io/_bolt.py\u001b[0m in \u001b[0;36mfetch_message\u001b[0;34m(self)\u001b[0m\n\u001b[1;32m    824\u001b[0m             \u001b[0mhydration_hooks\u001b[0m\u001b[0;34m=\u001b[0m\u001b[0mself\u001b[0m\u001b[0;34m.\u001b[0m\u001b[0mresponses\u001b[0m\u001b[0;34m[\u001b[0m\u001b[0;36m0\u001b[0m\u001b[0;34m]\u001b[0m\u001b[0;34m.\u001b[0m\u001b[0mhydration_hooks\u001b[0m\u001b[0;34m\u001b[0m\u001b[0;34m\u001b[0m\u001b[0m\n\u001b[1;32m    825\u001b[0m         )\n\u001b[0;32m--> 826\u001b[0;31m         \u001b[0mres\u001b[0m \u001b[0;34m=\u001b[0m \u001b[0mself\u001b[0m\u001b[0;34m.\u001b[0m\u001b[0m_process_message\u001b[0m\u001b[0;34m(\u001b[0m\u001b[0mtag\u001b[0m\u001b[0;34m,\u001b[0m \u001b[0mfields\u001b[0m\u001b[0;34m)\u001b[0m\u001b[0;34m\u001b[0m\u001b[0;34m\u001b[0m\u001b[0m\n\u001b[0m\u001b[1;32m    827\u001b[0m         \u001b[0mself\u001b[0m\u001b[0;34m.\u001b[0m\u001b[0midle_since\u001b[0m \u001b[0;34m=\u001b[0m \u001b[0mperf_counter\u001b[0m\u001b[0;34m(\u001b[0m\u001b[0;34m)\u001b[0m\u001b[0;34m\u001b[0m\u001b[0;34m\u001b[0m\u001b[0m\n\u001b[1;32m    828\u001b[0m         \u001b[0;32mreturn\u001b[0m \u001b[0mres\u001b[0m\u001b[0;34m\u001b[0m\u001b[0;34m\u001b[0m\u001b[0m\n",
            "\u001b[0;32m/usr/local/lib/python3.10/dist-packages/neo4j/_sync/io/_bolt5.py\u001b[0m in \u001b[0;36m_process_message\u001b[0;34m(self, tag, fields)\u001b[0m\n\u001b[1;32m    368\u001b[0m             \u001b[0mself\u001b[0m\u001b[0;34m.\u001b[0m\u001b[0m_server_state_manager\u001b[0m\u001b[0;34m.\u001b[0m\u001b[0mstate\u001b[0m \u001b[0;34m=\u001b[0m \u001b[0mself\u001b[0m\u001b[0;34m.\u001b[0m\u001b[0mbolt_states\u001b[0m\u001b[0;34m.\u001b[0m\u001b[0mFAILED\u001b[0m\u001b[0;34m\u001b[0m\u001b[0;34m\u001b[0m\u001b[0m\n\u001b[1;32m    369\u001b[0m             \u001b[0;32mtry\u001b[0m\u001b[0;34m:\u001b[0m\u001b[0;34m\u001b[0m\u001b[0;34m\u001b[0m\u001b[0m\n\u001b[0;32m--> 370\u001b[0;31m                 \u001b[0mresponse\u001b[0m\u001b[0;34m.\u001b[0m\u001b[0mon_failure\u001b[0m\u001b[0;34m(\u001b[0m\u001b[0msummary_metadata\u001b[0m \u001b[0;32mor\u001b[0m \u001b[0;34m{\u001b[0m\u001b[0;34m}\u001b[0m\u001b[0;34m)\u001b[0m\u001b[0;34m\u001b[0m\u001b[0;34m\u001b[0m\u001b[0m\n\u001b[0m\u001b[1;32m    371\u001b[0m             \u001b[0;32mexcept\u001b[0m \u001b[0;34m(\u001b[0m\u001b[0mServiceUnavailable\u001b[0m\u001b[0;34m,\u001b[0m \u001b[0mDatabaseUnavailable\u001b[0m\u001b[0;34m)\u001b[0m\u001b[0;34m:\u001b[0m\u001b[0;34m\u001b[0m\u001b[0;34m\u001b[0m\u001b[0m\n\u001b[1;32m    372\u001b[0m                 \u001b[0;32mif\u001b[0m \u001b[0mself\u001b[0m\u001b[0;34m.\u001b[0m\u001b[0mpool\u001b[0m\u001b[0;34m:\u001b[0m\u001b[0;34m\u001b[0m\u001b[0;34m\u001b[0m\u001b[0m\n",
            "\u001b[0;32m/usr/local/lib/python3.10/dist-packages/neo4j/_sync/io/_common.py\u001b[0m in \u001b[0;36mon_failure\u001b[0;34m(self, metadata)\u001b[0m\n\u001b[1;32m    245\u001b[0m         \u001b[0mhandler\u001b[0m \u001b[0;34m=\u001b[0m \u001b[0mself\u001b[0m\u001b[0;34m.\u001b[0m\u001b[0mhandlers\u001b[0m\u001b[0;34m.\u001b[0m\u001b[0mget\u001b[0m\u001b[0;34m(\u001b[0m\u001b[0;34m\"on_summary\"\u001b[0m\u001b[0;34m)\u001b[0m\u001b[0;34m\u001b[0m\u001b[0;34m\u001b[0m\u001b[0m\n\u001b[1;32m    246\u001b[0m         \u001b[0mUtil\u001b[0m\u001b[0;34m.\u001b[0m\u001b[0mcallback\u001b[0m\u001b[0;34m(\u001b[0m\u001b[0mhandler\u001b[0m\u001b[0;34m)\u001b[0m\u001b[0;34m\u001b[0m\u001b[0;34m\u001b[0m\u001b[0m\n\u001b[0;32m--> 247\u001b[0;31m         \u001b[0;32mraise\u001b[0m \u001b[0mNeo4jError\u001b[0m\u001b[0;34m.\u001b[0m\u001b[0mhydrate\u001b[0m\u001b[0;34m(\u001b[0m\u001b[0;34m**\u001b[0m\u001b[0mmetadata\u001b[0m\u001b[0;34m)\u001b[0m\u001b[0;34m\u001b[0m\u001b[0;34m\u001b[0m\u001b[0m\n\u001b[0m\u001b[1;32m    248\u001b[0m \u001b[0;34m\u001b[0m\u001b[0m\n\u001b[1;32m    249\u001b[0m     \u001b[0;32mdef\u001b[0m \u001b[0mon_ignored\u001b[0m\u001b[0;34m(\u001b[0m\u001b[0mself\u001b[0m\u001b[0;34m,\u001b[0m \u001b[0mmetadata\u001b[0m\u001b[0;34m=\u001b[0m\u001b[0;32mNone\u001b[0m\u001b[0;34m)\u001b[0m\u001b[0;34m:\u001b[0m\u001b[0;34m\u001b[0m\u001b[0;34m\u001b[0m\u001b[0m\n",
            "\u001b[0;31mConstraintError\u001b[0m: {code: Neo.ClientError.Schema.ConstraintValidationFailed} {message: Cannot delete node<171>, because it still has relationships. To delete this node, you must first delete its relationships.}"
          ]
        }
      ]
    },
    {
      "cell_type": "code",
      "source": [
        "query_7_2 = \"\"\"\n",
        "               MATCH (p:Person {name: \"Christopher Nolan\"}) DETACH DELETE p\n",
        "            \"\"\"\n",
        "run_cypher_on_aura_db_neo4j(query_7_2)"
      ],
      "metadata": {
        "colab": {
          "base_uri": "https://localhost:8080/"
        },
        "id": "7Fg6VKXgqYNJ",
        "outputId": "2fdd4592-bff8-4459-8f35-e9f217f8386a"
      },
      "execution_count": null,
      "outputs": [
        {
          "output_type": "execute_result",
          "data": {
            "text/plain": [
              "[]"
            ]
          },
          "metadata": {},
          "execution_count": 24
        }
      ]
    },
    {
      "cell_type": "code",
      "source": [
        "query_7_3 = \"\"\"\n",
        "               MATCH (p:Person {name: 'Christopher Nolan'})\n",
        "               RETURN p.name\n",
        "            \"\"\"\n",
        "run_cypher_on_aura_db_neo4j(query_7_3)"
      ],
      "metadata": {
        "colab": {
          "base_uri": "https://localhost:8080/"
        },
        "id": "UJZQA8Gnqcda",
        "outputId": "713b3b24-ddfd-46da-e0ba-489afffad088"
      },
      "execution_count": null,
      "outputs": [
        {
          "output_type": "execute_result",
          "data": {
            "text/plain": [
              "[]"
            ]
          },
          "metadata": {},
          "execution_count": 25
        }
      ]
    },
    {
      "cell_type": "code",
      "source": [
        "query_7_4 = \"\"\"\n",
        "               MATCH (m:Movie {title: 'Inception'})\n",
        "               RETURN m.title\n",
        "            \"\"\"\n",
        "run_cypher_on_aura_db_neo4j(query_7_4)"
      ],
      "metadata": {
        "colab": {
          "base_uri": "https://localhost:8080/"
        },
        "id": "eKemTJD0qeoX",
        "outputId": "8b7d5f7b-31d8-405e-eac9-d93ee5c9899d"
      },
      "execution_count": null,
      "outputs": [
        {
          "output_type": "execute_result",
          "data": {
            "text/plain": [
              "[<Record m.title='Inception'>]"
            ]
          },
          "metadata": {},
          "execution_count": 26
        }
      ]
    },
    {
      "cell_type": "code",
      "source": [
        "query_7_5 = \"\"\"\n",
        "               MATCH (m:Movie {title: \"Inception\"}) DETACH DELETE m\n",
        "            \"\"\"\n",
        "run_cypher_on_aura_db_neo4j(query_7_5)"
      ],
      "metadata": {
        "colab": {
          "base_uri": "https://localhost:8080/"
        },
        "id": "kL3oCyVXqi0D",
        "outputId": "8059f087-1c2c-4595-f113-8ea3b31c12f9"
      },
      "execution_count": null,
      "outputs": [
        {
          "output_type": "execute_result",
          "data": {
            "text/plain": [
              "[]"
            ]
          },
          "metadata": {},
          "execution_count": 27
        }
      ]
    },
    {
      "cell_type": "code",
      "source": [
        "query_7_4 = \"\"\"\n",
        "               MATCH (m:Movie {title: 'Inception'})\n",
        "               RETURN m.title\n",
        "            \"\"\"\n",
        "run_cypher_on_aura_db_neo4j(query_7_4)"
      ],
      "metadata": {
        "colab": {
          "base_uri": "https://localhost:8080/"
        },
        "id": "hCsIeMwfqmk1",
        "outputId": "404e5710-8545-4595-e597-66168e23bd9b"
      },
      "execution_count": null,
      "outputs": [
        {
          "output_type": "execute_result",
          "data": {
            "text/plain": [
              "[]"
            ]
          },
          "metadata": {},
          "execution_count": 28
        }
      ]
    },
    {
      "cell_type": "markdown",
      "source": [
        "### Deleting all Nodes"
      ],
      "metadata": {
        "id": "YEige5NZqzKv"
      }
    },
    {
      "cell_type": "code",
      "source": [
        "query_8 = \"\"\"\n",
        "             MATCH (n) DETACH DELETE n\n",
        "          \"\"\"\n",
        "run_cypher_on_aura_db_neo4j(query_8)"
      ],
      "metadata": {
        "colab": {
          "base_uri": "https://localhost:8080/"
        },
        "id": "EnrM4ZLupWlM",
        "outputId": "5efcfe03-29c8-4f41-9c8b-9d904e600726"
      },
      "execution_count": null,
      "outputs": [
        {
          "output_type": "execute_result",
          "data": {
            "text/plain": [
              "[]"
            ]
          },
          "metadata": {},
          "execution_count": 29
        }
      ]
    },
    {
      "cell_type": "code",
      "source": [
        "run_cypher_on_aura_db_neo4j(\"MATCH (N) Return N\")"
      ],
      "metadata": {
        "colab": {
          "base_uri": "https://localhost:8080/"
        },
        "id": "ZC_sUtc6qvTz",
        "outputId": "8fcad301-d5ab-42c5-a546-ceb7b6a12133"
      },
      "execution_count": null,
      "outputs": [
        {
          "output_type": "execute_result",
          "data": {
            "text/plain": [
              "[]"
            ]
          },
          "metadata": {},
          "execution_count": 30
        }
      ]
    }
  ]
}