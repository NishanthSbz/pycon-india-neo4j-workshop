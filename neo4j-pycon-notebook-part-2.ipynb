{
  "nbformat": 4,
  "nbformat_minor": 0,
  "metadata": {
    "colab": {
      "provenance": []
    },
    "kernelspec": {
      "name": "python3",
      "display_name": "Python 3"
    },
    "language_info": {
      "name": "python"
    }
  },
  "cells": [
    {
      "cell_type": "markdown",
      "source": [
        "# Python Workshop with Neo4j - Part 2\n",
        "Click on the link below to open a Colab version of the notebook. You will be able to create your own version.\n"
      ],
      "metadata": {
        "id": "0WfHzEJQrwu2"
      }
    },
    {
      "cell_type": "markdown",
      "source": [
        "<a href=\"https://colab.research.google.com/github/bhattbhavesh91/pycon-india-neo4j-workshop/blob/main/neo4j-pycon-notebook-part-2.ipynb\" target=\"_blank\"><img height=\"40\" alt=\"Run your own notebook in Colab\" src = \"https://colab.research.google.com/assets/colab-badge.svg\"></a>"
      ],
      "metadata": {
        "id": "A7Ofwaikr_js"
      }
    },
    {
      "cell_type": "markdown",
      "source": [
        "# Installation"
      ],
      "metadata": {
        "id": "uR7XkETXgquD"
      }
    },
    {
      "cell_type": "code",
      "execution_count": null,
      "metadata": {
        "id": "gTCHFXVwe-Od"
      },
      "outputs": [],
      "source": [
        "!pip install -q neo4j\n",
        "!pip install -q neo4j-driver\n",
        "!pip install -q google-generativeai\n",
        "!pip install -q gradio"
      ]
    },
    {
      "cell_type": "markdown",
      "source": [
        "# Imports"
      ],
      "metadata": {
        "id": "WQGCGxkjgtoN"
      }
    },
    {
      "cell_type": "code",
      "source": [
        "import google.generativeai as palm\n",
        "import base64\n",
        "import json\n",
        "import gradio as gr\n",
        "import re\n",
        "from neo4j import GraphDatabase"
      ],
      "metadata": {
        "id": "iqlVtQ3cfWfr"
      },
      "execution_count": null,
      "outputs": []
    },
    {
      "cell_type": "markdown",
      "source": [
        "# Google Palm API Key"
      ],
      "metadata": {
        "id": "7rBCErtzKkUI"
      }
    },
    {
      "cell_type": "code",
      "source": [
        "palm.configure(api_key = \"Enter Your Palm API Key Here\")"
      ],
      "metadata": {
        "id": "-8GQgrVTKmwk"
      },
      "execution_count": null,
      "outputs": []
    },
    {
      "cell_type": "markdown",
      "source": [
        "# Helper Functions"
      ],
      "metadata": {
        "id": "WPujel4Cgvds"
      }
    },
    {
      "cell_type": "code",
      "source": [
        "def get_answer(input):\n",
        "\n",
        "    defaults = {\n",
        "  'model': 'models/text-bison-001',\n",
        "  'temperature': 0.7,\n",
        "  'candidate_count': 1,\n",
        "  'top_k': 40,\n",
        "  'top_p': 0.95,\n",
        "  'max_output_tokens': 1024,\n",
        "  'stop_sequences': [],\n",
        "  'safety_settings': [{\"category\":\"HARM_CATEGORY_DEROGATORY\",\"threshold\":1},{\"category\":\"HARM_CATEGORY_TOXICITY\",\"threshold\":1},{\"category\":\"HARM_CATEGORY_VIOLENCE\",\"threshold\":2},{\"category\":\"HARM_CATEGORY_SEXUAL\",\"threshold\":2},{\"category\":\"HARM_CATEGORY_MEDICAL\",\"threshold\":2},{\"category\":\"HARM_CATEGORY_DANGEROUS\",\"threshold\":2}],\n",
        "    }\n",
        "\n",
        "    prompt = f\"\"\"You are an expert in converting English questions to Neo4j Cypher Graph code! The Graph has following Node Labels - Movie, Person! the Movie Node has the following properties released, tagline, title, The Person node has the properties such as name and born. The Neo4j Graph has the following Relationship types ACTED_IN, DIRECTED, FOLLOWS, PRODUCED, REVIEWED, WROTE!\n",
        "\n",
        "    All relationships ACTED_IN, DIRECTED, FOLLOWS, PRODUCED, REVIEWED, WROTE start from Person to Movie and not the other way around.\n",
        "\n",
        "    For example,\n",
        "    Example 1 - List down 5 movies that released after the year 2000, the Cypher command will be something like this\n",
        "    ``` MATCH (m:Movie)\n",
        "    WHERE m.released > 2000\n",
        "    RETURN m LIMIT 5\n",
        "    ```\n",
        "\n",
        "    Example 2 - Get all the people who acted in a movie that was released after 2010.\n",
        "    ```\n",
        "    MATCH (p:Person)-[r:ACTED_IN]->(m:Movie)\n",
        "    WHERE m.released > 2010\n",
        "    RETURN p,r,m\n",
        "    ```\n",
        "\n",
        "    Example 3 - Name the Director of the movie The Matrix Reloaded?\n",
        "    ```\n",
        "    MATCH (m:Movie)<-[:DIRECTED]-(p:Person)\n",
        "    WHERE m.title = 'Apollo 13'\n",
        "    RETURN p.name\n",
        "    ```\n",
        "\n",
        "    Dont include ``` and \\n in the output\n",
        "\n",
        "    {input}\"\"\"\n",
        "\n",
        "    response = palm.generate_text(**defaults, prompt=prompt)\n",
        "    return response.result"
      ],
      "metadata": {
        "id": "6rX8IHg0K_F8"
      },
      "execution_count": null,
      "outputs": []
    },
    {
      "cell_type": "code",
      "source": [
        "def extract_query_and_return_key(input_query_result):\n",
        "    slash_n_pattern = r'[ \\n]+'\n",
        "    ret_pattern = r'RETURN\\s+(.*)'\n",
        "    replacement = ' '\n",
        "\n",
        "    cleaned_query = re.sub(slash_n_pattern, replacement, input_query_result)\n",
        "    if cleaned_query:\n",
        "        match = re.search(ret_pattern, cleaned_query)\n",
        "        if match:\n",
        "            extracted_string = match.group(1)\n",
        "        else:\n",
        "            extracted_string = \"\"\n",
        "    return cleaned_query, extracted_string\n",
        ""
      ],
      "metadata": {
        "id": "wNKb0jl9K_IV"
      },
      "execution_count": null,
      "outputs": []
    },
    {
      "cell_type": "code",
      "source": [
        "def format_names_with_ampersand(names):\n",
        "    if len(names) == 0:\n",
        "        return \"\"\n",
        "    elif len(names) == 1:\n",
        "        return names[0]\n",
        "    else:\n",
        "        formatted_names = \", \".join(names[:-1]) + \" & \" + names[-1]\n",
        "        return formatted_names"
      ],
      "metadata": {
        "id": "OQ6dHo69Lw32"
      },
      "execution_count": null,
      "outputs": []
    },
    {
      "cell_type": "code",
      "source": [
        "def run_cypher_on_neo4j(inp_query, inp_key):\n",
        "    out_list = []\n",
        "    with driver.session() as session:\n",
        "        result = session.run(inp_query)\n",
        "        for record in result:\n",
        "            out_list.append(record[inp_key])\n",
        "    driver.close()\n",
        "    if len(out_list) > 1:\n",
        "        return format_names_with_ampersand(out_list)\n",
        "    else:\n",
        "        return out_list[0]"
      ],
      "metadata": {
        "id": "SOWYjwBGL1BQ"
      },
      "execution_count": null,
      "outputs": []
    },
    {
      "cell_type": "code",
      "source": [
        "def generate_and_exec_cypher(input_query):\n",
        "    gen_query, gen_key = extract_query_and_return_key(get_answer(input_query))\n",
        "    return run_cypher_on_neo4j(gen_query, gen_key)"
      ],
      "metadata": {
        "id": "6MPrnDeYL1ED"
      },
      "execution_count": null,
      "outputs": []
    },
    {
      "cell_type": "code",
      "source": [
        "def chatbot(input, history=[]):\n",
        "    output = str(generate_and_exec_cypher(input))\n",
        "    history.append((input, output))\n",
        "    return history, history"
      ],
      "metadata": {
        "id": "iZyHA20WK_LX"
      },
      "execution_count": null,
      "outputs": []
    },
    {
      "cell_type": "markdown",
      "source": [
        "# Initialize Driver"
      ],
      "metadata": {
        "id": "QPwLmZ97L9jf"
      }
    },
    {
      "cell_type": "code",
      "source": [
        "URI = \"URL\"\n",
        "AUTH = (\"username\", \"Password\")\n",
        "\n",
        "with GraphDatabase.driver(URI, auth=AUTH) as driver:\n",
        "    driver.verify_connectivity()"
      ],
      "metadata": {
        "id": "1Jm1Wf8nfo3P"
      },
      "execution_count": null,
      "outputs": []
    },
    {
      "cell_type": "markdown",
      "source": [
        "# Launch Gradio Interface"
      ],
      "metadata": {
        "id": "s2a-yU5SMBnA"
      }
    },
    {
      "cell_type": "code",
      "source": [
        "gr.Interface(fn = chatbot,\n",
        "             inputs = [\"text\",'state'],\n",
        "             outputs = [\"chatbot\",'state']).launch(debug = True)"
      ],
      "metadata": {
        "id": "ewLS5BNDMDWS"
      },
      "execution_count": null,
      "outputs": []
    },
    {
      "cell_type": "code",
      "source": [],
      "metadata": {
        "id": "XomPD5aHME9R"
      },
      "execution_count": null,
      "outputs": []
    }
  ]
}